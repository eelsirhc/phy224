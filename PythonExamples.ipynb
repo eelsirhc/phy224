{
 "cells": [
  {
   "cell_type": "markdown",
   "metadata": {
    "slideshow": {
     "slide_type": "slide"
    }
   },
   "source": [
    "## Python Examples"
   ]
  },
  {
   "cell_type": "markdown",
   "metadata": {
    "slideshow": {
     "slide_type": "slide"
    }
   },
   "source": [
    "###  Manipulating a list of fruits\n"
   ]
  },
  {
   "cell_type": "code",
   "execution_count": null,
   "metadata": {
    "collapsed": false,
    "slideshow": {
     "slide_type": "-"
    }
   },
   "outputs": [],
   "source": [
    "# First make a list of fruits\n",
    "fruits = [\"Apple\",\"Banana\",\"Currant\",\"Damson\",\"Elderberry\",\"Fig\",\n",
    "          \"Gooseberry\",\"Huckleberry\",\"Jabuticaba\",\"Kiwifruit\", \n",
    "          \"Lemon\",\"Mango\",\"Nectarine\",\"Orange\",\"Papaya\",\"Quince\",\n",
    "          \"Raspberry\",\"Strawberry\",\n",
    "          \"Tomato\",\"Ugli fruit\", \"Yuzu\"]\n",
    "#This function simply wraps the len function with a more readable name\n",
    "def number_of_items(alist):\n",
    "    #return the number of items in the list\n",
    "    return len(alist)\n",
    "\n",
    "#call the function and print the result\n",
    "print(\"Number of items in the list is {0}\".format(number_of_items(fruits)))"
   ]
  },
  {
   "cell_type": "markdown",
   "metadata": {
    "slideshow": {
     "slide_type": "slide"
    }
   },
   "source": [
    "###  Find the longest string in the list"
   ]
  },
  {
   "cell_type": "code",
   "execution_count": null,
   "metadata": {
    "collapsed": false,
    "slideshow": {
     "slide_type": "-"
    }
   },
   "outputs": [],
   "source": [
    "\n",
    "#We find the length of each string and keep the \n",
    "#string with the largest number\n",
    "fruits = [\"Apple\",\"Banana\",\"Currant\",\"Damson\",\"Elderberry\",\"Fig\",\n",
    "          \"Gooseberry\",\"Huckleberry\",\"Jabuticaba\",\"Kiwifruit\", \n",
    "          \"Lemon\",\"Mango\",\"Nectarine\",\"Orange\",\"Papaya\",\"Quince\",\n",
    "          \"Raspberry\",\"Strawberry\",\n",
    "          \"Tomato\",\"Ugli fruit\", \"Yuzu\"]\n",
    "\n",
    "def longest_string(alist):\n",
    "    #Find the longest string in the list and return it\n",
    "    longest=\"\"\n",
    "    for item in alist:\n",
    "        if len(item) > len(longest):\n",
    "            longest=item\n",
    "    return longest\n",
    "\n",
    "print(\"The longest string is {0}.\".format(longest_string(fruits)))"
   ]
  },
  {
   "cell_type": "markdown",
   "metadata": {
    "slideshow": {
     "slide_type": "slide"
    }
   },
   "source": [
    "###  Count letters in a string"
   ]
  },
  {
   "cell_type": "code",
   "execution_count": null,
   "metadata": {
    "collapsed": false,
    "slideshow": {
     "slide_type": "-"
    }
   },
   "outputs": [],
   "source": [
    "#occurrences of a particular character\n",
    "fruits = [\"Apple\",\"Banana\",\"Currant\",\"Damson\",\"Elderberry\",\"Fig\",\n",
    "          \"Gooseberry\",\"Huckleberry\",\"Jabuticaba\",\"Kiwifruit\", \n",
    "          \"Lemon\",\"Mango\",\"Nectarine\",\"Orange\",\"Papaya\",\"Quince\",\n",
    "          \"Raspberry\",\"Strawberry\",\n",
    "          \"Tomato\",\"Ugli fruit\", \"Yuzu\"]\n",
    "\n",
    "def string_with_most_character(alist,character):\n",
    "    found=\"\"\n",
    "    for item in alist:\n",
    "        #compare the number of the target characters to the current match in found.\n",
    "        if item.count(character) > found.count(character):\n",
    "            found=item\n",
    "    return found\n",
    "\n",
    "#Test with the character 'a'\n",
    "char='a'\n",
    "found_string = string_with_most_character(fruits,char)\n",
    "print(\"The String with the most '{0}' characters is {1}.\".format(char,found_string))\n",
    "\n",
    "#Test with the character 'A'\n",
    "char='A'\n",
    "found_string = string_with_most_character(fruits,char)\n",
    "print(\"The String with the most '{0}' characters is {1}.\".format(char,found_string))\n",
    "    "
   ]
  },
  {
   "cell_type": "markdown",
   "metadata": {
    "slideshow": {
     "slide_type": "slide"
    }
   },
   "source": [
    "###    Count letters, but ignore case"
   ]
  },
  {
   "cell_type": "code",
   "execution_count": null,
   "metadata": {
    "collapsed": false,
    "slideshow": {
     "slide_type": "-"
    }
   },
   "outputs": [],
   "source": [
    "#cases are converted to lower case before each comparison\n",
    "def string_with_most_character_nocase(alist,character):\n",
    "    found=\"\"\n",
    "    lowchar=character.lower()\n",
    "    for item in alist:\n",
    "        lowitem = item.lower()\n",
    "        lowfound = found.lower()\n",
    "        #compare the number of the target characters to the current match in found.\n",
    "        if lowitem.count(lowchar) > lowfound.count(lowchar):\n",
    "            found=item\n",
    "    return found\n",
    "\n",
    "#Test with the character 'A'\n",
    "char='A'\n",
    "found_string = string_with_most_character_nocase(fruits,char)\n",
    "start=\"Ignoring case, the string with the most\"\n",
    "print(\"{0} '{1}' characters is {2}.\".format(start,char,found_string))\n",
    "\n",
    "char='a'\n",
    "found_string = string_with_most_character_nocase(fruits,char)\n",
    "start=\"Ignoring case, the string with the most\"\n",
    "print(\"{0} '{1}' characters is {2}.\".format(start,char,found_string))"
   ]
  },
  {
   "cell_type": "markdown",
   "metadata": {
    "slideshow": {
     "slide_type": "slide"
    }
   },
   "source": [
    "###  Print a list as a comma separated string"
   ]
  },
  {
   "cell_type": "code",
   "execution_count": null,
   "metadata": {
    "collapsed": false,
    "slideshow": {
     "slide_type": "-"
    }
   },
   "outputs": [],
   "source": [
    "# Print out a list by creating a string of elements joined with a comma\n",
    "\n",
    "datalist = [4,2,1,5,3,0,1,0,2,4,1,0,0,0,2,5,8,9,9,9,8,7,4]\n",
    "\n",
    "def list_to_string(alist):\n",
    "    #join the elements together with a comma\n",
    "    strlist=[]\n",
    "    for val in alist:\n",
    "        strlist.append(str(val)) #make sure we are dealing with strings\n",
    "    return \", \".join(strlist)\n",
    "\n",
    "print(\"My list is\\n {0}\".format(list_to_string(datalist)))\n"
   ]
  },
  {
   "cell_type": "markdown",
   "metadata": {
    "slideshow": {
     "slide_type": "slide"
    }
   },
   "source": [
    "###  Remove the last element in a list"
   ]
  },
  {
   "cell_type": "code",
   "execution_count": null,
   "metadata": {
    "collapsed": false,
    "slideshow": {
     "slide_type": "-"
    }
   },
   "outputs": [],
   "source": [
    "#Remove the last element in a list\n",
    "#by returning a new list \n",
    "datalist = [4,2,1,5,3,0,1,0,2,4,1,0,0,0,2,5,8,9,9,9,8,7,4]\n",
    "\n",
    "def remove_last_element(alist):\n",
    "    #remove the last element in the list\n",
    "    all_but_last = alist[:-1]\n",
    "    return all_but_last\n",
    "\n",
    "newlist = remove_last_element(datalist)\n",
    "print(\"My list without the last element is\\n  {0}\".format(list_to_string(newlist)))\n",
    "print(\"My original list is still\\n  {0}\".format(list_to_string(datalist)))"
   ]
  },
  {
   "cell_type": "markdown",
   "metadata": {
    "slideshow": {
     "slide_type": "slide"
    }
   },
   "source": [
    "###  Save all elements matching value"
   ]
  },
  {
   "cell_type": "code",
   "execution_count": null,
   "metadata": {
    "collapsed": false,
    "slideshow": {
     "slide_type": "-"
    }
   },
   "outputs": [],
   "source": [
    "#Save all elements matching value\n",
    "datalist = [4,2,1,5,3,0,1,0,2,4,1,0,0,0,2,5,8,9,9,9,8,7,4]\n",
    "\n",
    "def save_all_elements_matching_value(alist,value):\n",
    "    #save all of the elements that match the value into a new list\n",
    "    newlist=list()\n",
    "    for item in alist:\n",
    "        if item==value:\n",
    "            newlist.append(item)\n",
    "    return newlist\n",
    "\n",
    "save_zeros = save_all_elements_matching_value(datalist,0)\n",
    "nlist_str = list_to_string(save_zeros)\n",
    "print(\"Saving the items in the array that match the value is\\n {0}\".format(nlist_str))"
   ]
  },
  {
   "cell_type": "markdown",
   "metadata": {
    "slideshow": {
     "slide_type": "slide"
    }
   },
   "source": [
    "###  Save all elements with a particular length"
   ]
  },
  {
   "cell_type": "code",
   "execution_count": null,
   "metadata": {
    "collapsed": false,
    "slideshow": {
     "slide_type": "-"
    }
   },
   "outputs": [],
   "source": [
    "fruits = [\"Apple\",\"Banana\",\"Currant\",\"Damson\",\"Elderberry\",\"Fig\",\n",
    "          \"Gooseberry\",\"Huckleberry\",\"Jabuticaba\",\"Kiwifruit\", \n",
    "          \"Lemon\",\"Mango\",\"Nectarine\",\"Orange\",\"Papaya\",\"Quince\",\n",
    "          \"Raspberry\",\"Strawberry\",\n",
    "          \"Tomato\",\"Ugli fruit\", \"Yuzu\"]\n",
    "\n",
    "def save_all_string_with_length(alist,length):\n",
    "    #save all of the elements that match the value into a new list\n",
    "    newlist=list()\n",
    "    for item in alist:\n",
    "        if len(item)==length:\n",
    "            newlist.append(item)\n",
    "    return newlist\n",
    "\n",
    "l=6\n",
    "savelist = save_all_string_with_length(fruits,l)\n",
    "nlist_str = list_to_string(savelist)\n",
    "print(\"Fruits with names of length {0} include\\n {1}\".format(l,nlist_str))"
   ]
  },
  {
   "cell_type": "markdown",
   "metadata": {
    "slideshow": {
     "slide_type": "slide"
    }
   },
   "source": [
    "###  Remove matching elements from a list, *destructively*. "
   ]
  },
  {
   "cell_type": "code",
   "execution_count": null,
   "metadata": {
    "collapsed": false,
    "slideshow": {
     "slide_type": "-"
    }
   },
   "outputs": [],
   "source": [
    "### Remove matching elements from a list, *destructively*. \n",
    "#The original list is altered\n",
    "datalist = [4,2,1,5,3,0,1,0,2,4,1,0,0,0,2,5,8,9,9,9,8,7,4]\n",
    "\n",
    "def remove_matching_elements_inplace(alist, value):\n",
    "    #This time, don't create a new list to remove elements\n",
    "    #if we loop upwards through the list we affect the elements\n",
    "    #above us we haven't looked at yet. If we loop downwards we\n",
    "    #affect elements we have looked at already.\n",
    "    \n",
    "    #Be careful with the range here, \n",
    "    #We start at len(alist)-1 . The index of the last element\n",
    "    #We want to end at 0, but range always stops one before the value we ask for\n",
    "    #so we ask for stop=\"-1\"\n",
    "    #We're counting backwards, so the \"step\" is -1.\n",
    "    for i in range(len(alist)-1,-1,-1):\n",
    "        if alist[i] == value:\n",
    "            alist.pop(i)\n",
    "\n",
    "remove_matching_elements_inplace(datalist,0)\n",
    "nlist_str = list_to_string(datalist)\n",
    "print(\"after removing zeros my original list is\\n {0}\".format(nlist_str))\n"
   ]
  },
  {
   "cell_type": "markdown",
   "metadata": {
    "slideshow": {
     "slide_type": "slide"
    }
   },
   "source": [
    "###  Remove matching elements (2)"
   ]
  },
  {
   "cell_type": "code",
   "execution_count": null,
   "metadata": {
    "collapsed": false,
    "slideshow": {
     "slide_type": "-"
    }
   },
   "outputs": [],
   "source": [
    "#Same as before counting up instead of down\n",
    "datalist = [4,2,1,5,3,0,1,0,2,4,1,0,0,0,2,5,8,9,9,9,8,7,4]\n",
    "\n",
    "def remove_matching_elements_inplace2(alist, value):\n",
    "    #count up, not down\n",
    "\n",
    "    #this code does not work properly\n",
    "    #because the length of the list is saved at \n",
    "    #the start of the list but it gets smaller \n",
    "    #inside the list as we remove elements\n",
    "    #it also misses consecutive matching values\n",
    "    for i in range(0,len(alist)):\n",
    "        if alist[i] == value:\n",
    "            alist.pop(i)\n",
    "\n",
    "print(\"This code is broken and \"\\\n",
    "      \"returns the error 'IndexEror: list index out of range'\")\n",
    "#remove_matching_elements_inplace2(datalist,0)\n",
    "#nlist_str = list_to_string(datalist)\n",
    "#print(\"after removing zeros my original list is {0}\".format(nlist_str))\n"
   ]
  },
  {
   "cell_type": "markdown",
   "metadata": {
    "slideshow": {
     "slide_type": "slide"
    }
   },
   "source": [
    "###  Remove matching elements, with a while loop"
   ]
  },
  {
   "cell_type": "code",
   "execution_count": null,
   "metadata": {
    "collapsed": false,
    "slideshow": {
     "slide_type": "-"
    }
   },
   "outputs": [],
   "source": [
    "#Using a while loop\n",
    "datalist = [4,2,1,5,3,0,1,0,2,4,1,0,0,0,2,5,8,9,9,9,8,7,4]\n",
    "\n",
    "def remove_matching_elements_inplace3(alist, value):\n",
    "    #count up, not down\n",
    "    #recheck the size of the list each time\n",
    "    #and be careful with the counter\n",
    "    i=0\n",
    "    while i<len(alist):\n",
    "        if alist[i] == value:\n",
    "            alist.pop(i) \n",
    "            #if we find a value, pop it from the list,\n",
    "            #but do not increase the counter.\n",
    "            #we removed an item from the list, so \n",
    "            #every item in the list above i moved\n",
    "            #down one item\n",
    "        else:\n",
    "            i+=1 #found nothing, increment counter\n",
    "\n",
    "remove_matching_elements_inplace3(datalist,0)\n",
    "nlist_str = list_to_string(datalist)\n",
    "print(\"After removing zeros my original list is\\n {0}\".format(nlist_str))\n"
   ]
  },
  {
   "cell_type": "markdown",
   "metadata": {
    "slideshow": {
     "slide_type": "slide"
    }
   },
   "source": [
    "###  Another way of removing values"
   ]
  },
  {
   "cell_type": "code",
   "execution_count": null,
   "metadata": {
    "collapsed": false,
    "slideshow": {
     "slide_type": "-"
    }
   },
   "outputs": [],
   "source": [
    "datalist = [4,2,1,5,3,0,1,0,2,4,1,0,0,0,2,5,8,9,9,9,8,7,4]\n",
    "def ex9_remove(alist, value):\n",
    "    for i in range(alist.count(value)):\n",
    "        #the remove method looks for the first occurrence of value and removes it.\n",
    "        alist.remove(value)\n",
    "    \n",
    "ex9_remove(datalist,0)\n",
    "nlist_str = list_to_string(datalist)\n",
    "print(\"after removing zeros my original list is\\n {0}\".format(nlist_str))"
   ]
  },
  {
   "cell_type": "markdown",
   "metadata": {
    "slideshow": {
     "slide_type": "slide"
    }
   },
   "source": [
    "###  Count each element in the list"
   ]
  },
  {
   "cell_type": "code",
   "execution_count": null,
   "metadata": {
    "collapsed": false,
    "slideshow": {
     "slide_type": "-"
    }
   },
   "outputs": [],
   "source": [
    "datalist = [4,2,1,5,3,0,1,0,2,4,1,0,0,0,2,5,8,9,9,9,8,7,4]\n",
    "\n",
    "def count_each_element(alist):\n",
    "    #count the occurrence of each item in the list\n",
    "    #find the unique elements. 'sets' is a \n",
    "    #quick way of doing this because it \n",
    "    #only holds one of each item\n",
    "    \n",
    "    unique=list(set(alist))\n",
    "    count=list()\n",
    "    for i in range(len(unique)):\n",
    "        #count the number of entries with the count function, \n",
    "        #passing it the value of the i'th element in unique\n",
    "        c=alist.count(unique[i])\n",
    "        count.append( c )\n",
    "    return unique, count #we need to return the values in \n",
    "                         #unique and the count in count\n",
    "    \n",
    "def plural_s(c):\n",
    "    #help to get the print statement correct with plural numbers\n",
    "    if c != 1 :\n",
    "        return \"s\"\n",
    "    else:\n",
    "        return \"\" #an empty string\n",
    "    \n",
    "values,count = count_each_element(datalist)\n",
    "for i in range(len(values)):\n",
    "    print(\"{0} appears {1} time{2}\".format(values[i],count[i],plural_s(count[i])))"
   ]
  },
  {
   "cell_type": "markdown",
   "metadata": {
    "slideshow": {
     "slide_type": "slide"
    }
   },
   "source": [
    "###  Count each element in the list. using a dictionary"
   ]
  },
  {
   "cell_type": "code",
   "execution_count": null,
   "metadata": {
    "collapsed": false,
    "slideshow": {
     "slide_type": "-"
    }
   },
   "outputs": [],
   "source": [
    "datalist = [4,2,1,5,3,0,1,0,2,4,1,0,0,0,2,5,8,9,9,9,8,7,4]\n",
    "\n",
    "def count_each_element(alist):\n",
    "    #count the occurrence of each item in the list\n",
    "    count=dict()\n",
    "    for v in alist:\n",
    "        #count the number of entries with the count function, \n",
    "        #passing it the value of the i'th element in unique\n",
    "        if v in count.keys():\n",
    "            count[v]+=1\n",
    "        else:\n",
    "            count[v]=1\n",
    "    return count #the dictionary hold the number and count\n",
    "    \n",
    "def plural_s(c):\n",
    "    #help to get the print statement correct with plural numbers\n",
    "    if c != 1 :\n",
    "        return \"s\"\n",
    "    else:\n",
    "        return \"\" #an empty string\n",
    "    \n",
    "count = count_each_element(datalist)\n",
    "for k,v in count.items():\n",
    "    print(\"{0} appears {1} time{2}\".format(k,v,plural_s(count[i])))"
   ]
  },
  {
   "cell_type": "markdown",
   "metadata": {
    "slideshow": {
     "slide_type": "slide"
    }
   },
   "source": [
    "### Sorting a list"
   ]
  },
  {
   "cell_type": "code",
   "execution_count": null,
   "metadata": {
    "collapsed": false,
    "slideshow": {
     "slide_type": "-"
    }
   },
   "outputs": [],
   "source": [
    "datalist = [4,7,2,6,0,1]\n",
    "\n",
    "sort_list = sorted(datalist)\n",
    "print(\"My original list is\\n {0}\".format(list_to_string(datalist)))\n",
    "print(\"After sorting the list it is\\n {0}\".format(list_to_string(sort_list)))\n",
    "print(\"and my original list is still\\n {0}\".format(list_to_string(datalist)))\n",
    "\n"
   ]
  },
  {
   "cell_type": "markdown",
   "metadata": {
    "collapsed": true,
    "slideshow": {
     "slide_type": "slide"
    }
   },
   "source": [
    "###  In place sorting"
   ]
  },
  {
   "cell_type": "code",
   "execution_count": null,
   "metadata": {
    "collapsed": false,
    "slideshow": {
     "slide_type": "-"
    }
   },
   "outputs": [],
   "source": [
    "datalist = [4,7,2,6,0,1]\n",
    "print(\"My original list is\\n {0}\".format(list_to_string(datalist)))\n",
    "\n",
    "datalist.sort()\n",
    "print(\"After sorting in-place we've\")\n",
    "print(\"changed our original list to\\n {0}\".format(list_to_string(datalist)))\n"
   ]
  },
  {
   "cell_type": "markdown",
   "metadata": {
    "slideshow": {
     "slide_type": "slide"
    }
   },
   "source": [
    "### Return the largest value of two numbers"
   ]
  },
  {
   "cell_type": "code",
   "execution_count": null,
   "metadata": {
    "collapsed": false,
    "slideshow": {
     "slide_type": "-"
    }
   },
   "outputs": [],
   "source": [
    "def return_the_largest(a,b):\n",
    "    #return whichever value is larger\n",
    "    if a>b:\n",
    "        return a\n",
    "    else:\n",
    "        return b\n",
    "\n",
    "a,b=6,3\n",
    "print(\"The largest value of {0} and {1} is {2}\".format(a,b,return_the_largest(a,b)))\n",
    "a,b=3,-3\n",
    "print(\"The largest value of {0} and {1} is {2}\".format(a,b,return_the_largest(a,b)))"
   ]
  },
  {
   "cell_type": "markdown",
   "metadata": {
    "slideshow": {
     "slide_type": "slide"
    }
   },
   "source": [
    "###  Loop through values from 0 to a, comparing against b"
   ]
  },
  {
   "cell_type": "code",
   "execution_count": null,
   "metadata": {
    "collapsed": false,
    "slideshow": {
     "slide_type": "-"
    }
   },
   "outputs": [],
   "source": [
    "def compare_range_against_b(a,b):\n",
    "    #loop from 0 to a, comparing the size of the counter against b\n",
    "    c=0\n",
    "    for c in range(a):\n",
    "        if c>b:\n",
    "            print(\"{0} is greater than {1}\".format(c,b))\n",
    "        elif c<b:\n",
    "            print(\"{0} is less than {1}\".format(c,b))\n",
    "        else:\n",
    "            print(\"{0} is equal to {1}\".format(c,b))\n",
    "\n",
    "a=5\n",
    "b=2\n",
    "compare_range_against_b(a,b)\n"
   ]
  },
  {
   "cell_type": "markdown",
   "metadata": {
    "slideshow": {
     "slide_type": "slide"
    }
   },
   "source": [
    "###  Two dimensional loop"
   ]
  },
  {
   "cell_type": "code",
   "execution_count": null,
   "metadata": {
    "collapsed": false,
    "slideshow": {
     "slide_type": "-"
    }
   },
   "outputs": [],
   "source": [
    "#count from 0,0 to a,b\n",
    "def two_dimensional_loop(a,b):\n",
    "    #loop from 0-a, repeat b times\n",
    "    for ib in range(b):\n",
    "        #The inner loop goes fastest, and we want to loop 0-a fastest\n",
    "        for ia in range(a):\n",
    "            print(\"Loop {0},{1}\".format(ia,ib))\n",
    "        \n",
    "a,b=3,2\n",
    "two_dimensional_loop(a,b)"
   ]
  },
  {
   "cell_type": "markdown",
   "metadata": {
    "slideshow": {
     "slide_type": "slide"
    }
   },
   "source": [
    "###  Two dimensional loop"
   ]
  },
  {
   "cell_type": "code",
   "execution_count": null,
   "metadata": {
    "collapsed": false,
    "slideshow": {
     "slide_type": "-"
    }
   },
   "outputs": [],
   "source": [
    "#where the inner loop depends on the outer loop\n",
    "def triangle_loop(a):\n",
    "    #loop from 0-a, then 1-a, then 2-a, then 3-a, until it's just a\n",
    "    for ib in range(a):\n",
    "        line=\"\"\n",
    "        for ia in range(ib,a):\n",
    "            line=line+\"({0},{1}) \".format(ib,ia)\n",
    "        print(line)\n",
    "a,b=6,3\n",
    "triangle_loop(a)"
   ]
  },
  {
   "cell_type": "markdown",
   "metadata": {
    "slideshow": {
     "slide_type": "slide"
    }
   },
   "source": [
    "###  Time"
   ]
  },
  {
   "cell_type": "code",
   "execution_count": null,
   "metadata": {
    "collapsed": false,
    "slideshow": {
     "slide_type": "-"
    }
   },
   "outputs": [],
   "source": [
    "import time\n",
    "print(\"The time is {0}\".format(time.time())) #This is the time, but in\n",
    "#milliseconds since 1970 Jan 1\n",
    "\n",
    "#using the time package to time your code\n",
    "#start the timer\n",
    "start_time = time.time()\n",
    "\n",
    "#do something slow\n",
    "Nrand=1000000\n",
    "s=0\n",
    "import random\n",
    "for i in range(Nrand):\n",
    "    s=s+random.random()\n",
    "\n",
    "#stop the timer\n",
    "end_time = time.time()\n",
    "\n",
    "print(\"It took {0} seconds \".format(end_time-start_time) +\\\n",
    "      \"to add {0} random numbers\".format(Nrand))\n",
    "print(\"The mean value of the random \"\\\n",
    "      \"numbers is {0}. It should be 0.5\".format(s/Nrand))"
   ]
  },
  {
   "cell_type": "markdown",
   "metadata": {
    "slideshow": {
     "slide_type": "slide"
    }
   },
   "source": [
    "###  Datetime"
   ]
  },
  {
   "cell_type": "code",
   "execution_count": null,
   "metadata": {
    "collapsed": false,
    "slideshow": {
     "slide_type": "-"
    }
   },
   "outputs": [],
   "source": [
    "from datetime import datetime\n",
    "now  = datetime.now()\n",
    "#The time in Year-Month-Day Hour:Minute:Second\n",
    "print(\"The time is {0}\".format(now)) "
   ]
  },
  {
   "cell_type": "markdown",
   "metadata": {
    "slideshow": {
     "slide_type": "slide"
    }
   },
   "source": [
    "###  Math package"
   ]
  },
  {
   "cell_type": "code",
   "execution_count": null,
   "metadata": {
    "collapsed": false,
    "slideshow": {
     "slide_type": "-"
    }
   },
   "outputs": [],
   "source": [
    "from math import sin,cos,pi\n",
    "print(\"Sine(0) is {0}\".format(sin(0)))\n",
    "print(\"Cosine(0) is {0}\".format(cos(0)))\n",
    "\n",
    "print(\"Sine(pi) is {0}\".format(sin(pi)))\n",
    "print(\"\\tThis should be zero, but the computer uses an approximation of 'pi'\")\n",
    "print(\"\\tthat is wrong after the sixteenth digit\")\n",
    "print(\"Cosine(pi) is {0}\".format(cos(pi)))\n",
    "print(\"Cosine(pi/2) is {0}\".format(cos(pi/2)))\n",
    "print(\"\\tThe same rounding error as above\")"
   ]
  },
  {
   "cell_type": "markdown",
   "metadata": {
    "slideshow": {
     "slide_type": "slide"
    }
   },
   "source": [
    "###  Random number"
   ]
  },
  {
   "cell_type": "code",
   "execution_count": null,
   "metadata": {
    "collapsed": false,
    "slideshow": {
     "slide_type": "-"
    }
   },
   "outputs": [],
   "source": [
    "import random\n",
    "\n",
    "uni=[]\n",
    "gau=[]\n",
    "for i in range(100):\n",
    "    uni.append(random.random()) #uniform random numbers between 0 and 1\n",
    "    gau.append(random.gauss(0,1)) #Gauss' distribution with variance 1\n",
    "#The mean value of a uniform number should be 0.5, so the sum of \n",
    "#100 numbers should be about 50\n",
    "print(\"Sum(uniform)={0}\".format(sum(uni)))\n",
    "#median value of the Gaussian should be zero\n",
    "print(\"Median(Gauss)={0}\".format(sorted(gau)[50]))"
   ]
  },
  {
   "cell_type": "markdown",
   "metadata": {
    "slideshow": {
     "slide_type": "slide"
    }
   },
   "source": [
    "###  Create a pack of cards"
   ]
  },
  {
   "cell_type": "code",
   "execution_count": null,
   "metadata": {
    "collapsed": false,
    "slideshow": {
     "slide_type": "-"
    }
   },
   "outputs": [],
   "source": [
    "import random\n",
    "cards = ['Ace','2','3','4','5','6','7','8','9','10','Jack','Queen','King']\n",
    "suits = ['Hearts','Diamonds','Clubs','Spades']\n",
    "pack=[]\n",
    "for c in cards:\n",
    "    for s in suits:\n",
    "        pack.append (\"{0} of {1}\".format(c,s))\n",
    "        \n",
    "#deal 5 cards\n",
    "#sample chooses 5 items from the pack list, using random selection \n",
    "#and without replace the chosen value. Just like dealing cards.\n",
    "deal = random.sample(pack,5)\n",
    "\n",
    "print(\"My hand is \")\n",
    "for h in sorted(deal):\n",
    "    print(\"\\t\\t {0}\".format(h))"
   ]
  },
  {
   "cell_type": "markdown",
   "metadata": {
    "slideshow": {
     "slide_type": "slide"
    }
   },
   "source": [
    "###  Reverse a string. Reverse a word. Reverse a sentence."
   ]
  },
  {
   "cell_type": "code",
   "execution_count": null,
   "metadata": {
    "collapsed": false,
    "slideshow": {
     "slide_type": "-"
    }
   },
   "outputs": [],
   "source": [
    "s=\"The End\"\n",
    "print(s)\n",
    "print(s[::-1]) #i.e. access all of the string but count backwards\n",
    "\n",
    "t=s.split() #split the string on whitespace\n",
    "for i in range(len(t)):\n",
    "    t[i]=t[i][::-1] #reverse each word in t\n",
    "s2=\" \".join(t) #join the strings back together with a space\n",
    "print(s2)\n",
    "\n",
    "t=s.split()\n",
    "s3=\" \".join(t[::-1]) #Access the list in reverse, but not the strings\n",
    "print(s3)"
   ]
  },
  {
   "cell_type": "markdown",
   "metadata": {
    "slideshow": {
     "slide_type": "slide"
    }
   },
   "source": [
    "###  Importing numpy"
   ]
  },
  {
   "cell_type": "code",
   "execution_count": null,
   "metadata": {
    "collapsed": false,
    "slideshow": {
     "slide_type": "-"
    }
   },
   "outputs": [],
   "source": [
    "import numpy\n",
    "import numpy as np\n",
    "\n",
    "print (numpy.cos(1.0))\n",
    "print(np.cos(1.0))"
   ]
  },
  {
   "cell_type": "markdown",
   "metadata": {
    "collapsed": true,
    "slideshow": {
     "slide_type": "slide"
    }
   },
   "source": [
    "###  Generating arrays with numpy "
   ]
  },
  {
   "cell_type": "code",
   "execution_count": null,
   "metadata": {
    "collapsed": false,
    "slideshow": {
     "slide_type": "-"
    }
   },
   "outputs": [],
   "source": [
    "import numpy as np\n",
    "\n",
    "#generate 10 numbers from 0 to 10\n",
    "a1 = np.arange(10)\n",
    "print(\"a1 is {0}\".format(a1))\n"
   ]
  },
  {
   "cell_type": "code",
   "execution_count": null,
   "metadata": {
    "collapsed": false,
    "slideshow": {
     "slide_type": "slide"
    }
   },
   "outputs": [],
   "source": [
    "#Numbers from 0 to 150 spaced by 10\n",
    "a2 = np.arange(0,150,10)\n",
    "print(\"a2 is {0}\".format(a2))"
   ]
  },
  {
   "cell_type": "code",
   "execution_count": null,
   "metadata": {
    "collapsed": false,
    "slideshow": {
     "slide_type": "slide"
    }
   },
   "outputs": [],
   "source": [
    "\n",
    "#10 Numbers from 0 to 150\n",
    "a3 = np.arange(0,150,150/10.)\n",
    "print(\"\\na3 is {0}\".format(a3))\n"
   ]
  },
  {
   "cell_type": "code",
   "execution_count": null,
   "metadata": {
    "collapsed": false,
    "slideshow": {
     "slide_type": "slide"
    }
   },
   "outputs": [],
   "source": [
    "\n",
    "#A 2d array from 0 to 25\n",
    "a4 = np.arange(25.)\n",
    "a4 = a4.reshape((5,5))\n",
    "print(\"\\na4 is \\n{0}\".format(a4))\n"
   ]
  },
  {
   "cell_type": "code",
   "execution_count": null,
   "metadata": {
    "collapsed": false,
    "slideshow": {
     "slide_type": "slide"
    }
   },
   "outputs": [],
   "source": [
    "#transpose a4\n",
    "a4transposed = a4.T\n",
    "print(\"\\na4transposed is \\n{0}\".format(a4transposed))"
   ]
  },
  {
   "cell_type": "code",
   "execution_count": null,
   "metadata": {
    "collapsed": false,
    "slideshow": {
     "slide_type": "slide"
    }
   },
   "outputs": [],
   "source": [
    "#multiply two arrays\n",
    "a5 = np.arange(3)\n",
    "a6 = np.arange(3)+2\n",
    "print(\"\\na5 is {0}, a6 is {1}\".format( a5,a6 ))"
   ]
  },
  {
   "cell_type": "code",
   "execution_count": null,
   "metadata": {
    "collapsed": false,
    "slideshow": {
     "slide_type": "slide"
    }
   },
   "outputs": [],
   "source": [
    "#multiply the two arrays\n",
    "print(\"\\na5*a6 is {0}\".format( a5*a6 ))"
   ]
  },
  {
   "cell_type": "code",
   "execution_count": null,
   "metadata": {
    "collapsed": false,
    "slideshow": {
     "slide_type": "slide"
    }
   },
   "outputs": [],
   "source": [
    "#calculate the vector dot product\n",
    "print(\"\\n(dot product) a5.a6 is {0}\".format( np.dot(a5,a6) ))"
   ]
  },
  {
   "cell_type": "code",
   "execution_count": null,
   "metadata": {
    "collapsed": false,
    "slideshow": {
     "slide_type": "slide"
    }
   },
   "outputs": [],
   "source": [
    "#calculate the cross product\n",
    "print(\"\\n(cross product) a5 x a6 is {0}\".format( np.cross(a5,a6) ))"
   ]
  },
  {
   "cell_type": "code",
   "execution_count": null,
   "metadata": {
    "collapsed": false,
    "slideshow": {
     "slide_type": "slide"
    }
   },
   "outputs": [],
   "source": [
    "#calculate the sum of the elements\n",
    "print(\"\\nsum(a5) is {0}\".format( np.sum(a5) ))"
   ]
  },
  {
   "cell_type": "code",
   "execution_count": null,
   "metadata": {
    "collapsed": false,
    "slideshow": {
     "slide_type": "slide"
    }
   },
   "outputs": [],
   "source": [
    "#calculate the mean of the elements\n",
    "print(\"\\nmean(a5) is {0}\".format( np.mean(a5) ))"
   ]
  },
  {
   "cell_type": "code",
   "execution_count": null,
   "metadata": {
    "collapsed": false,
    "slideshow": {
     "slide_type": "slide"
    }
   },
   "outputs": [],
   "source": [
    "#generate a 3x3 identity matrix\n",
    "i3 = np.eye(3)\n",
    "print(\"\\n3x3 identity matrix is \\n{0}\".format(i3))"
   ]
  },
  {
   "cell_type": "markdown",
   "metadata": {
    "collapsed": true,
    "slideshow": {
     "slide_type": "slide"
    }
   },
   "source": [
    "###  Accessing arrays"
   ]
  },
  {
   "cell_type": "code",
   "execution_count": null,
   "metadata": {
    "collapsed": false,
    "slideshow": {
     "slide_type": "-"
    }
   },
   "outputs": [],
   "source": [
    "import numpy as np\n",
    "\n",
    "oned = np.arange(5)\n",
    "\n",
    "print(\"\\n oned is {0}\".format( oned ))\n",
    "print(\"\\n oned[0] is {0}\".format( oned[0] ))\n",
    "print(\"\\n oned[::-1] is oned reversed, and is {0}\".format( oned[::-1] ))"
   ]
  },
  {
   "cell_type": "code",
   "execution_count": null,
   "metadata": {
    "collapsed": false,
    "slideshow": {
     "slide_type": "slide"
    }
   },
   "outputs": [],
   "source": [
    "#Two dimensional array\n",
    "import numpy as np\n",
    "\n",
    "twod = np.arange(15).reshape((5,3))\n",
    "\n",
    "print(\"\\n twod is \\n{0}\".format( twod ))\n",
    "print(\"\\n twod[0] is {0}, the whole first row!\".format( twod[0] )) #The entire row!\n",
    "print(\"\\n twod[0,1] is {0}\".format( twod[0,1] )) #The first row, second column"
   ]
  },
  {
   "cell_type": "code",
   "execution_count": null,
   "metadata": {
    "collapsed": false,
    "slideshow": {
     "slide_type": "slide"
    }
   },
   "outputs": [],
   "source": [
    "print(\"\\n twod[:,1] is {0}, the whole second column!\".format( twod[:,1] ))"
   ]
  },
  {
   "cell_type": "code",
   "execution_count": null,
   "metadata": {
    "collapsed": false,
    "slideshow": {
     "slide_type": "slide"
    }
   },
   "outputs": [],
   "source": [
    "print(\"\\n twod[::2,1] is {0}, every second element\".format( twod[::2,1] ))\n",
    "print(\" from the whole second column!\")"
   ]
  },
  {
   "cell_type": "code",
   "execution_count": null,
   "metadata": {
    "collapsed": false,
    "slideshow": {
     "slide_type": "slide"
    }
   },
   "outputs": [],
   "source": [
    "print(\"\\n twod[::2,::2] is every second element\")\n",
    "print(\" from the every second column! \\n{0}\".format( twod[::2,::2] ))"
   ]
  },
  {
   "cell_type": "markdown",
   "metadata": {
    "collapsed": true,
    "slideshow": {
     "slide_type": "slide"
    }
   },
   "source": [
    "###  Using numpy arrays in a calculation"
   ]
  },
  {
   "cell_type": "code",
   "execution_count": null,
   "metadata": {
    "collapsed": false,
    "slideshow": {
     "slide_type": "-"
    }
   },
   "outputs": [],
   "source": [
    "import numpy as np\n",
    "a=np.arange(4)\n",
    "b=np.arange(4)\n",
    "c=np.arange(10,14,1)\n",
    "\n",
    "print(\"a={0}, b={1}, c={2}\".format(a,b,c))\n",
    "\n",
    "#a*a + b*b\n",
    "d=a**2 + b**2\n",
    "print(\"a^2 + b^2 is {0}\".format( d ))\n",
    "\n",
    "h=a*b*c\n",
    "print(\"a*b*c={0}\".format(h))\n",
    "\n",
    "k=2.*a+5.\n",
    "print(\"2a+5 is {0}\".format(k))"
   ]
  },
  {
   "cell_type": "markdown",
   "metadata": {
    "collapsed": true,
    "slideshow": {
     "slide_type": "slide"
    }
   },
   "source": [
    "###  Using numpy arrays in function calls\n"
   ]
  },
  {
   "cell_type": "code",
   "execution_count": null,
   "metadata": {
    "collapsed": false,
    "slideshow": {
     "slide_type": "-"
    }
   },
   "outputs": [],
   "source": [
    "import numpy as np\n",
    "a=np.arange(3, dtype=float)\n",
    "b=np.arange(3, dtype=float)\n",
    "c=np.arange(10,13,1, dtype=float)\n",
    "\n",
    "#Adding some exponentials\n",
    "f = (np.exp(-c) + np.exp(c))/2.\n",
    "print(\"(exp(-c) + exp(c))/2. is {0}\".format(f))\n",
    "\n",
    "#Hyperbolic cosine\n",
    "g=np.cosh(c)\n",
    "print(\"cosh(c) is {0}\".format(g))\n",
    "\n",
    "print(\"mean(c) is {0}\".format( np.mean(c) ))\n",
    "print(\"std(c) is {0}\".format( np.std(c) ))\n",
    "print(\"median(c) is {0}\".format( np.median(c) ))\n",
    "\n",
    "def myproduct(arr):\n",
    "    p=1.\n",
    "    for value in arr:\n",
    "        p=p*value\n",
    "    return p\n",
    "\n",
    "print(\"myproduct(c) is {0}\".format(myproduct(c)))\n",
    "print(\"numpy's product(c) is {0}\".format(np.product(c)))"
   ]
  },
  {
   "cell_type": "markdown",
   "metadata": {
    "collapsed": true,
    "slideshow": {
     "slide_type": "slide"
    }
   },
   "source": [
    "###  Saving numpy arrays to a file"
   ]
  },
  {
   "cell_type": "code",
   "execution_count": null,
   "metadata": {
    "collapsed": false,
    "slideshow": {
     "slide_type": "-"
    }
   },
   "outputs": [],
   "source": [
    "import numpy as np\n",
    "\n",
    "data = np.arange(15)\n",
    "\n",
    "#save to a file with no decoration\n",
    "np.savetxt(\"output_files/simple_file.txt\",data)\n",
    "\n",
    "#save using commas to separate data\n",
    "np.savetxt(\"output_files/comma_delimited.txt\",data,delimiter=',')\n",
    "\n",
    "#save with a header\n",
    "np.savetxt(\"output_files/with_header.txt\",data,header='Example , Aug 16, 2016')\n",
    "\n",
    "#save with a footer\n",
    "np.savetxt(\"output_files/with_footer.txt\",data,\n",
    "           footer='University of Toronto, PHY 224', comments='~')\n",
    "\n",
    "data2d = np.arange(15.).reshape(5,3)\n",
    "\n",
    "#save 2d\n",
    "np.savetxt(\"output_files/twod.txt\",data2d,header=\"Aug 16, 2016\", \n",
    "           footer='University of Toronto, PHY 224')\n",
    "print(\"The 2d saved in is \\n{0}\".format(data2d))"
   ]
  },
  {
   "cell_type": "markdown",
   "metadata": {
    "collapsed": true,
    "slideshow": {
     "slide_type": "slide"
    }
   },
   "source": [
    "###  Loading numpy arrays from a file"
   ]
  },
  {
   "cell_type": "code",
   "execution_count": null,
   "metadata": {
    "collapsed": false,
    "slideshow": {
     "slide_type": "-"
    }
   },
   "outputs": [],
   "source": [
    "import numpy as np\n",
    "\n",
    "data_simple = np.loadtxt(\"output_files/simple_file.txt\")\n",
    "data_comma = np.loadtxt(\"output_files/simple_file.txt\",delimiter=',')\n",
    "\n",
    "#Python knows to skip comment lines, \n",
    "#marked with the comment maker that is usually a #\n",
    "data_header = np.loadtxt(\"output_files/with_header.txt\")\n",
    "\n",
    "#but it doesn't know if you change the comment marker, so use the comments keyword\n",
    "data_footer = np.loadtxt(\"output_files/with_footer.txt\",comments='~')\n",
    "data2d = np.loadtxt(\"output_files/twod.txt\")\n",
    "\n",
    "print(\"The 2d data read in is \\n{0}\".format(data2d))"
   ]
  },
  {
   "cell_type": "markdown",
   "metadata": {
    "collapsed": true,
    "slideshow": {
     "slide_type": "slide"
    }
   },
   "source": [
    "###  Loading numpy arrays in 2 dimensions\n"
   ]
  },
  {
   "cell_type": "code",
   "execution_count": null,
   "metadata": {
    "collapsed": false,
    "slideshow": {
     "slide_type": "-"
    }
   },
   "outputs": [],
   "source": [
    "import numpy as np\n",
    "#generate some data\n",
    "data2d = np.arange(50).reshape(5,10)\n",
    "#save the data\n",
    "np.savetxt(\"output_files/largedata.txt\",data2d)\n",
    "\n",
    "#read all of the data\n",
    "indata= np.loadtxt(\"output_files/largedata.txt\")\n",
    "#read one column only\n",
    "onedata = np.loadtxt(\"output_files/largedata.txt\",usecols=(1,))\n",
    "#read column 1 and 3 only (that's the second and fourth columns!)\n",
    "onethreedata = np.loadtxt(\"output_files/largedata.txt\",usecols=(1,3))\n",
    "\n",
    "#skip three rows, then read columns 2 and 4, \n",
    "#and unpack the data into two variables\n",
    "two, four = np.loadtxt(\"output_files/largedata.txt\",\n",
    "                        usecols=(2,4),skiprows=3,unpack=True)\n",
    "print(\"data2d shape is {0}\".format(data2d.shape))\n",
    "print(\"indata shape is {0}\".format(indata.shape))\n",
    "print(\"onedata shape is {0}\".format(onedata.shape))\n",
    "print(\"onethreedata shape is {0}\".format(onethreedata.shape))\n",
    "print(\"'two's shape is {0} and has values {1}\".format(two.shape,two))\n",
    "print(\"'four's shape is {0} and has values {1}\".format(four.shape,four))"
   ]
  },
  {
   "cell_type": "code",
   "execution_count": null,
   "metadata": {
    "collapsed": true,
    "nbsphinx": "hidden",
    "slideshow": {
     "slide_type": "slide"
    }
   },
   "outputs": [],
   "source": [
    "#Some setup for the presentation plots\n",
    "import matplotlib as mpl\n",
    "%matplotlib inline\n",
    "mpl.rcParams['savefig.dpi']=100             #72 "
   ]
  },
  {
   "cell_type": "markdown",
   "metadata": {
    "collapsed": true,
    "slideshow": {
     "slide_type": "slide"
    }
   },
   "source": [
    "###  Importing Pylab and plotting data\n"
   ]
  },
  {
   "cell_type": "code",
   "execution_count": null,
   "metadata": {
    "collapsed": false,
    "slideshow": {
     "slide_type": "-"
    }
   },
   "outputs": [],
   "source": [
    "import pylab as pl\n",
    "x=pl.arange(10)\n",
    "y=x\n",
    "\n",
    "#simple plot\n",
    "pl.plot(x,y);"
   ]
  },
  {
   "cell_type": "code",
   "execution_count": null,
   "metadata": {
    "collapsed": false,
    "slideshow": {
     "slide_type": "slide"
    }
   },
   "outputs": [],
   "source": [
    "#Customizing the figure\n",
    "import pylab as pl\n",
    "x=pl.arange(10)\n",
    "y=x\n",
    "\n",
    "#change the figure size, plot, and save\n",
    "pl.figure(figsize=(9,3)) #9 inches wide, 3 inches tall\n",
    "pl.plot(x,y,color='green',linewidth=2,linestyle='--',marker='o')\n",
    "pl.savefig(\"output_files/figure1.pdf\")"
   ]
  },
  {
   "cell_type": "code",
   "execution_count": null,
   "metadata": {
    "collapsed": false,
    "slideshow": {
     "slide_type": "slide"
    }
   },
   "outputs": [],
   "source": [
    "import pylab as pl\n",
    "x=pl.arange(10)\n",
    "y=x\n",
    "\n",
    "#change the figure size, plot, and save\n",
    "pl.figure(figsize=(9,5)) #9 inches wide, 5 inches tall\n",
    "pl.plot(x,y)\n",
    "#label the plot\n",
    "pl.title(\"Title of plot\")\n",
    "pl.xlabel(\"x label\")\n",
    "pl.ylabel(\"y label\")\n",
    "#constain axis limits\n",
    "pl.xlim(0,4) #left,right\n",
    "pl.ylim(9,0) #reversed the axis because \"left\" is larger than \"right\"\n",
    "\n",
    "#add a grid\n",
    "pl.grid()\n",
    "\n",
    "#save\n",
    "pl.savefig(\"output_files/figure2.pdf\")"
   ]
  },
  {
   "cell_type": "markdown",
   "metadata": {
    "collapsed": true,
    "slideshow": {
     "slide_type": "slide"
    }
   },
   "source": [
    "###  plotting multiple lines"
   ]
  },
  {
   "cell_type": "code",
   "execution_count": null,
   "metadata": {
    "collapsed": false,
    "slideshow": {
     "slide_type": "-"
    }
   },
   "outputs": [],
   "source": [
    "import pylab as pl\n",
    "x=pl.arange(10)\n",
    "y=x\n",
    "\n",
    "#change the figure size, plot, and save\n",
    "pl.figure(figsize=(9,5)) #9 inches wide, 5 inches tall\n",
    "pl.plot(x,x,label='x')\n",
    "pl.plot(x,2*x,label='2x')\n",
    "pl.plot(x,3*x,label='3x',color='yellow') #choose a color for this line\n",
    "pl.plot(x,3*x+1,label='3x+1')\n",
    "#label the plot\n",
    "pl.title(\"Title of plot\")\n",
    "pl.xlabel(\"x label\")\n",
    "pl.ylabel(\"y label\")\n",
    "\n",
    "pl.legend(loc='upper center') \n",
    "#'loc' is location, can be any combination of\n",
    "# upper middle lower : in the vertical\n",
    "# left center right : in the horizontal\n",
    "#add a grid\n",
    "pl.grid()\n",
    "\n",
    "#save\n",
    "pl.savefig(\"output_files/figure3.pdf\")"
   ]
  },
  {
   "cell_type": "markdown",
   "metadata": {
    "collapsed": true,
    "slideshow": {
     "slide_type": "slide"
    }
   },
   "source": [
    "###  Plotting with options"
   ]
  },
  {
   "cell_type": "code",
   "execution_count": null,
   "metadata": {
    "collapsed": false,
    "slideshow": {
     "slide_type": "-"
    }
   },
   "outputs": [],
   "source": [
    "import pylab as pl\n",
    "x=pl.linspace(-4*pl.pi,4*pl.pi,100)\n",
    "\n",
    "pl.figure(figsize=(5,3))\n",
    "pl.plot(x,pl.sin(x))\n",
    "pl.plot(x,0.5+pl.sin(x),color='green') #green\n",
    "pl.plot(x,1.0+pl.sin(x),color='red',linewidth=2) #thicker line\n",
    "pl.plot(x,1.5+pl.sin(x),color='yellow',linestyle='--') #dashed\n",
    "pl.plot(x,2.0+pl.sin(x),color='cyan',linestyle=':') #dotted\n",
    "pl.plot(x,2.5+pl.sin(x),color='black',marker='o',markersize=5)\n",
    "#solid line and o's with size 5\n",
    "pl.savefig(\"output_files/figure4.pdf\")"
   ]
  },
  {
   "cell_type": "markdown",
   "metadata": {
    "slideshow": {
     "slide_type": "slide"
    }
   },
   "source": [
    "###  Plotting histograms"
   ]
  },
  {
   "cell_type": "code",
   "execution_count": null,
   "metadata": {
    "collapsed": false,
    "slideshow": {
     "slide_type": "-"
    }
   },
   "outputs": [],
   "source": [
    "import pylab as pl\n",
    "#generate some random data\n",
    "data = pl.randn(1000) #1,000 points distributed with Gauss' distribution\n",
    "\n",
    "pl.figure(figsize=(5,2))\n",
    "pl.plot(data,marker='.',linestyle='none')\n",
    "pl.savefig(\"output_files/figure5a.pdf\")\n"
   ]
  },
  {
   "cell_type": "code",
   "execution_count": null,
   "metadata": {
    "collapsed": false,
    "slideshow": {
     "slide_type": "-"
    }
   },
   "outputs": [],
   "source": [
    "data = pl.randn(1000) #1,000 points distributed with Gauss' distribution\n",
    "pl.figure(figsize=(5,2))\n",
    "#hist is used to plot the histogram. The default plot is normally okay\n",
    "pl.hist(data)\n",
    "#The default y axis is the number of elements in each bin.\n",
    "pl.savefig(\"output_files/figure5b.pdf\")"
   ]
  },
  {
   "cell_type": "code",
   "execution_count": null,
   "metadata": {
    "collapsed": false,
    "slideshow": {
     "slide_type": "-"
    }
   },
   "outputs": [],
   "source": [
    "data = pl.randn(1000) #1,000 points distributed with Gauss' distribution\n",
    "pl.figure(figsize=(5,2))\n",
    "#hist is used to plot the histogram. It can be controlled with options\n",
    "pl.hist(data, bins=100,color='red',normed=True) \n",
    "#with normed=True, the integral of the values \n",
    "#in the histogram is 1.0 (it is a normalized probability distribution)\n",
    "\n",
    "pl.savefig(\"output_files/figure5c.pdf\")"
   ]
  },
  {
   "cell_type": "code",
   "execution_count": null,
   "metadata": {
    "collapsed": false,
    "slideshow": {
     "slide_type": "-"
    }
   },
   "outputs": [],
   "source": [
    "data = pl.randn(1000) #1,000 points distributed with Gauss' distribution\n",
    "#hist can also be used to calculate the cumulative density function (CDF)\n",
    "pl.figure(figsize=(5,2))\n",
    "#hist is used to plot the histogram. It can be controlled with options\n",
    "pl.hist(data, bins=100,color='red',normed=True,cumulative=True) \n",
    "#with normed=True, the integral of the values \n",
    "#in the histogram is 1.0 (it is a normalized probability distribution)\n",
    "pl.savefig(\"output_files/figure5d.pdf\")"
   ]
  },
  {
   "cell_type": "markdown",
   "metadata": {
    "slideshow": {
     "slide_type": "slide"
    }
   },
   "source": [
    "###  Scatter plots"
   ]
  },
  {
   "cell_type": "code",
   "execution_count": null,
   "metadata": {
    "collapsed": false,
    "scrolled": false,
    "slideshow": {
     "slide_type": "-"
    }
   },
   "outputs": [],
   "source": [
    "import pylab as pl\n",
    "#generate some random data\n",
    "xdata = pl.randn(100) #1,000 points distributed with Gauss' distribution\n",
    "ydata = pl.randn(100) #1,000 points distributed with Gauss' distribution\n",
    "cdata = pl.randn(100)\n",
    "\n",
    "pl.figure(figsize=(3,3))\n",
    "#The default scatter plot, blue circles with black edges.\n",
    "pl.scatter(xdata,ydata)\n",
    "pl.savefig(\"output_files/figure6a.pdf\")"
   ]
  },
  {
   "cell_type": "code",
   "execution_count": null,
   "metadata": {
    "collapsed": false,
    "slideshow": {
     "slide_type": "slide"
    }
   },
   "outputs": [],
   "source": [
    "pl.figure(figsize=(3,3))\n",
    "#remove the edge color to make it a little cleaner\n",
    "#make each point slightly transparent to reduce 'crowding'\n",
    "pl.scatter(xdata,ydata,edgecolor='none',alpha=0.75)\n",
    "pl.savefig(\"output_files/figure6b.pdf\")"
   ]
  },
  {
   "cell_type": "code",
   "execution_count": null,
   "metadata": {
    "collapsed": false,
    "slideshow": {
     "slide_type": "slide"
    }
   },
   "outputs": [],
   "source": [
    "pl.figure(figsize=(3,3))\n",
    "#Encode a third dimension in the color of each point\n",
    "pl.scatter(xdata,ydata,edgecolor='none',alpha=0.75, c=cdata) \n",
    "#c (*not* color) is the keyword for the point color\n",
    "pl.savefig(\"output_files/figure6c.pdf\")"
   ]
  },
  {
   "cell_type": "code",
   "execution_count": null,
   "metadata": {
    "collapsed": false,
    "slideshow": {
     "slide_type": "slide"
    }
   },
   "outputs": [],
   "source": [
    "pl.figure(figsize=(3,3))\n",
    "#plot half the data in red\n",
    "pl.scatter(xdata[:50],ydata[:50],edgecolor='none',alpha=0.75,c='red')\n",
    "#and half the data in blue  \n",
    "pl.scatter(xdata[50:],ydata[50:],edgecolor='none',alpha=0.75,c='blue')\n",
    "#c (*not* color) is the keyword for the point color\n",
    "pl.savefig(\"output_files/figure6d.pdf\")"
   ]
  },
  {
   "cell_type": "code",
   "execution_count": null,
   "metadata": {
    "collapsed": false,
    "slideshow": {
     "slide_type": "slide"
    }
   },
   "outputs": [],
   "source": [
    "#one last figure\n",
    "import pylab as pl\n",
    "pl.figure(figsize=(3,3))\n",
    "r=pl.rand(1000)*1.\n",
    "t=pl.rand(1000)*2*pl.pi\n",
    "\n",
    "#convert the r and t parameters into a circle of data\n",
    "x=r*pl.cos(t)\n",
    "y=r*pl.sin(t)\n",
    "c=pl.floor(t/(pl.pi/2.)) # color it based on the t parameter in quarters\n",
    "pl.scatter(x,y,c=c,edgecolor='none',alpha=0.5)\n",
    "pl.savefig(\"output_files/figure6e.pdf\")"
   ]
  },
  {
   "cell_type": "markdown",
   "metadata": {
    "slideshow": {
     "slide_type": "slide"
    }
   },
   "source": [
    "###  Saving, Loading, and Plotting"
   ]
  },
  {
   "cell_type": "code",
   "execution_count": null,
   "metadata": {
    "collapsed": false,
    "slideshow": {
     "slide_type": "slide"
    }
   },
   "outputs": [],
   "source": [
    "import pylab as pl\n",
    "\n",
    "#generate some data\n",
    "xdata=pl.arange(0,10,0.01)\n",
    "\n",
    "#the 'perfect' data is e^(-x/2)*sin(pi*x)\n",
    "yperfect=pl.exp(-xdata/2.)*pl.sin(pl.pi*xdata)\n",
    "\n",
    "#the 'noisy' data has Gaussian noise added to the signal\n",
    "ydata=yperfect+pl.randn(1000)/25.\n",
    "\n",
    "#save in a text file\n",
    "pl.savetxt('output_files/exdata.txt',(xdata, ydata, yperfect),\n",
    "           delimiter=',',header='Example data')\n",
    "\n",
    "#next up, loading and plotting."
   ]
  },
  {
   "cell_type": "code",
   "execution_count": null,
   "metadata": {
    "collapsed": false,
    "slideshow": {
     "slide_type": "fragment"
    }
   },
   "outputs": [],
   "source": [
    "#clear the data to prove we're not cheating!\n",
    "xdata,ydata,yperfect = 0., 0,0 # clear data\n",
    "\n",
    "#load the data into new variables\n",
    "x,y,yp = pl.loadtxt('output_files/exdata.txt',delimiter=',')\n",
    "\n",
    "pl.figure(figsize=(5,4))\n",
    "\n",
    "#plot the noisy data first\n",
    "pl.plot(x,y,linestyle='none',marker='.',alpha=0.5,label='noisy data')\n",
    "#then plot the function\n",
    "pl.plot(x,yp,linewidth=2,label='idealized function')\n",
    "#label, grid, legend\n",
    "pl.title(\"Damped Oscillation\")\n",
    "pl.xlabel(\"Time\")\n",
    "pl.ylabel(\"Amplitude\")\n",
    "pl.legend(loc='upper right')\n",
    "pl.legend\n",
    "pl.savefig(\"output_files/figure7.pdf\")"
   ]
  }
 ],
 "metadata": {
  "celltoolbar": "Slideshow",
  "kernelspec": {
   "display_name": "Python 3",
   "language": "python",
   "name": "python3"
  },
  "language_info": {
   "codemirror_mode": {
    "name": "ipython",
    "version": 3
   },
   "file_extension": ".py",
   "mimetype": "text/x-python",
   "name": "python",
   "nbconvert_exporter": "python",
   "pygments_lexer": "ipython3",
   "version": "3.6.0"
  },
  "livereveal": {
   "scroll": "True"
  }
 },
 "nbformat": 4,
 "nbformat_minor": 0
}
