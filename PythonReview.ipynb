{
 "cells": [
  {
   "cell_type": "code",
   "execution_count": null,
   "metadata": {
    "collapsed": true,
    "nbsphinx": "hidden"
   },
   "outputs": [],
   "source": [
    "import matplotlib as mpl\n",
    "%matplotlib inline\n",
    "mpl.rcParams['savefig.dpi']=300             #72 m"
   ]
  },
  {
   "cell_type": "markdown",
   "metadata": {},
   "source": [
    "# Tutorial 1\n",
    "\n",
    "Python is generally used as a scripting language : Scripts are files that contain programs and functions. Scripts interact with data files and other programs. A script file (here named *script.py*) can be run from the command line using the `python` command.\n",
    "\n",
    "    python script.py\n",
    "\n",
    "Expressions and functions can also be called from an *interactive interpreter* launched by the `python` command without listing a script to run.\n",
    "\n",
    "    python \n",
    "\n",
    "    #My version prints the following at the start\n",
    "    Python 2.7.11 |Anaconda 2.5.0 (x86_64)| (default, Dec  6 2015, 18:57:58) \n",
    "    [GCC 4.2.1 (Apple Inc. build 5577)] on darwin\n",
    "    Type \"help\", \"copyright\", \"credits\" or \"license\" for more information.\n",
    "    Anaconda is brought to you by Continuum Analytics.\n",
    "    Please check out: http://continuum.io/thanks and https://anaconda.org\n"
   ]
  },
  {
   "cell_type": "markdown",
   "metadata": {},
   "source": [
    "## Introduction\n",
    "### Interpreter / Shell\n",
    "You can use the Python interpreter as a calculator"
   ]
  },
  {
   "cell_type": "code",
   "execution_count": null,
   "metadata": {
    "collapsed": false
   },
   "outputs": [],
   "source": [
    "3+5"
   ]
  },
  {
   "cell_type": "code",
   "execution_count": null,
   "metadata": {
    "collapsed": false
   },
   "outputs": [],
   "source": [
    "3.141592 / 2"
   ]
  },
  {
   "cell_type": "code",
   "execution_count": null,
   "metadata": {
    "collapsed": false
   },
   "outputs": [],
   "source": [
    "(1+1+2+3+5)*5 - 24/3"
   ]
  },
  {
   "cell_type": "code",
   "execution_count": null,
   "metadata": {
    "collapsed": false
   },
   "outputs": [],
   "source": [
    "9**2"
   ]
  },
  {
   "cell_type": "markdown",
   "metadata": {},
   "source": [
    "Python is an evolving language and has some quirks. In Python 2 (the older version of Python) the calculation `9/4` produces a different answer to Python 3 (the latest version of Python).\n",
    "\n",
    "This happens because the '/' operator is treated differently in the two versions, but produces the right answer in both cases if you understand the behavior. In Python 2, when you divide two `integers` (numbers without a decimal point), the answer will also be the nearest `integer`. In Python 3, the divide operator always converts `integers` into `floating point` (or `real`) numbers. Including the decimal point in your floating point numbers will help protect you from this problem. Unlike in *Matlab*, there is no ```./``` operator to force a floating point division."
   ]
  },
  {
   "cell_type": "code",
   "execution_count": null,
   "metadata": {
    "collapsed": false
   },
   "outputs": [],
   "source": [
    "9 / 4"
   ]
  },
  {
   "cell_type": "code",
   "execution_count": null,
   "metadata": {
    "collapsed": false
   },
   "outputs": [],
   "source": [
    "9. / 4"
   ]
  },
  {
   "cell_type": "markdown",
   "metadata": {},
   "source": [
    "### Whitespace\n",
    "\n",
    "Whitespace is often important in Python. Whitespace characters are characters in the program that often appear empty, like spaces and tabs. When writing Python code everything with the same indentation is treated as the same block of code, to be executed in order. \n",
    "\n",
    "The number of spaces or tabs at the start of each line is important and needs to be consistent. The number of spaces/tabs you use is not important but 4 spaces for each indentation level is common. Some text editors allow you to show whitespace characters (to maintain a consistent indentation) and convert tabs to spaces (to save typing 4 spaces each time, for example)."
   ]
  },
  {
   "cell_type": "markdown",
   "metadata": {},
   "source": [
    "### Comments\n",
    "\n",
    "Any text appearing after a ```#``` will be treated as a comment and ignored by Python, e.g. \n",
    "\n",
    "    # A comment at the start of a line\n",
    "    val = 1. #another comment, val is a value.\n",
    "    #val= -1\n",
    " \n",
    "```val``` is set to ```1``` in the above code. The line changing it to -1 is a comment and is not executed.\n",
    "\n",
    "###  Functions\n",
    "\n",
    "A function is a block of code that can be called by other programs or functions. Functions usually perform some work, and might return a value, save a file, plot a graph, etc. \n",
    "\n",
    "Functions are called using their name and providing the function values in a comma separated list in parentheses (also known as the arguments to the function), e.g.\n",
    "\n",
    "    add(3,2)\n",
    "\n",
    "calls the function `add` with two arguments, 3 and 2. The function name can be meaningless but should describe the behavior of the function if possible. If the answer from `add(3,2)` was not 5 you would be annoyed!\n"
   ]
  },
  {
   "cell_type": "markdown",
   "metadata": {},
   "source": [
    "### Numbers\n",
    "\n",
    "Python has built in numerical types like `integers`, `float`, `long`, and `complex`.\n",
    "\n",
    "   * `integers` range from -2 billion to + 2 billion. \n",
    "   * `long` numbers are integers that can be infinitely large.\n",
    "   * `float` numbers are 64-bits long, and can hold numbers from about -2e300 to 2e300, and can be as small as 2e-300. `float`ing point numbers typically hold 14 digits of accuracy.\n",
    "   * `complex` numbers are made from two `float` numbers.\n",
    "   \n",
    "If you mix numerical types in your code, Python will convert values to the `largest` type it needs, usually `integers` -> `long` -> `floats` -> `complex`. You can force a conversion using the functions `float`,`int`,`long`, and `complex`. "
   ]
  },
  {
   "cell_type": "code",
   "execution_count": null,
   "metadata": {
    "collapsed": false
   },
   "outputs": [],
   "source": [
    "float(1)"
   ]
  },
  {
   "cell_type": "code",
   "execution_count": null,
   "metadata": {
    "collapsed": false
   },
   "outputs": [],
   "source": [
    "int(3.14159)"
   ]
  },
  {
   "cell_type": "code",
   "execution_count": null,
   "metadata": {
    "collapsed": false
   },
   "outputs": [],
   "source": [
    "complex(3)"
   ]
  },
  {
   "cell_type": "code",
   "execution_count": null,
   "metadata": {
    "collapsed": false
   },
   "outputs": [],
   "source": [
    "complex(float(3.14159),int(2.71828))"
   ]
  },
  {
   "cell_type": "markdown",
   "metadata": {},
   "source": [
    "You can check the type of a variable with the `type` function"
   ]
  },
  {
   "cell_type": "code",
   "execution_count": null,
   "metadata": {
    "collapsed": false
   },
   "outputs": [],
   "source": [
    "type(1.0)"
   ]
  },
  {
   "cell_type": "code",
   "execution_count": null,
   "metadata": {
    "collapsed": false
   },
   "outputs": [],
   "source": [
    "type(1)"
   ]
  },
  {
   "cell_type": "markdown",
   "metadata": {},
   "source": [
    "### Strings\n",
    "Strings are defined using single or double quotation marks\n",
    "\n",
    "    'a string'\n",
    "    \"also a string\"\n",
    "    \n",
    "Strings can be concatenated with the *+* operator, and duplicated with the *** operator."
   ]
  },
  {
   "cell_type": "code",
   "execution_count": null,
   "metadata": {
    "collapsed": false
   },
   "outputs": [],
   "source": [
    "a='eggs '\n",
    "print(a)"
   ]
  },
  {
   "cell_type": "code",
   "execution_count": null,
   "metadata": {
    "collapsed": false
   },
   "outputs": [],
   "source": [
    "print(a+a)"
   ]
  },
  {
   "cell_type": "code",
   "execution_count": null,
   "metadata": {
    "collapsed": false
   },
   "outputs": [],
   "source": [
    "print(a*4)"
   ]
  },
  {
   "cell_type": "markdown",
   "metadata": {},
   "source": [
    "Characters in a string can be accessed using square brackets \"[]\", e.g.\n"
   ]
  },
  {
   "cell_type": "code",
   "execution_count": null,
   "metadata": {
    "collapsed": false
   },
   "outputs": [],
   "source": [
    "b=a*4 # eggs eggs eggs eggs\n",
    "print(b[0]) #indexing starts at 0! This is the first 'e'\n"
   ]
  },
  {
   "cell_type": "code",
   "execution_count": null,
   "metadata": {
    "collapsed": false
   },
   "outputs": [],
   "source": [
    "print(b[14]) #The space between words is also a character"
   ]
  },
  {
   "cell_type": "code",
   "execution_count": null,
   "metadata": {
    "collapsed": false
   },
   "outputs": [],
   "source": [
    "print(b[13]) #s in Python 2"
   ]
  },
  {
   "cell_type": "markdown",
   "metadata": {},
   "source": [
    "### Logic and Boolean data types.\n",
    "Python supports logical values (also known as Boolean data types) with the values *True* and *False*. Every other data type in Python can be interpreted as a Boolean data type, most of them are equivalent to the Boolean *True*. Special Values that are equivalent to  *False* include the number 0, an empty string, an empty list/array. In general, you shouldn't rely on these equivalent values and should check explicitly for the values you want to consider.\n",
    "\n",
    "Python also supports the logical operators *and*, *or*, and *not*, and the comparison operators ```<```,*<=*,*==*,*!=*,*>=*,*>*.\n",
    "\n",
    "    True and False #False\n",
    "    True or False #True\n",
    "    not True #False\n",
    "    True and not False #True\n",
    "    a < b # True if a is less than b\n",
    "    a <= b # True if a is less than or equal to b\n",
    "    a == b # True if a is equal to b\n",
    "    a != b # True if a is not equal to b\n",
    "    a >= b # True if a is greater than or equal to b\n",
    "    a > b # True if a is greater than b\n",
    "    a and True # True if a is interpreted as True\n",
    "    a and False # False always.\n",
    "\n",
    "and four examples of possibly unexpected results\n",
    "\n",
    "    a or True # a\n",
    "    True or a # True\n",
    "    a or False # a\n",
    "    False or a # a"
   ]
  },
  {
   "cell_type": "markdown",
   "metadata": {},
   "source": [
    "### Variables\n",
    "\n",
    "You can save values in ```variables```\n",
    " \n",
    "    x=3\n",
    "    \n",
    "means save the value of 3 in the variable ```x```. Whatever value was previously in ```x``` is lost unless you store it somewhere else. Variables can be reused in other expressions, including saving them to other variables\n",
    "\n",
    "    x=3\n",
    "    y=x\n",
    "    z=x * x\n",
    "    x=0 #changes x from 3 to 0, but doesn't affect y or z\n",
    "    y=0 #changes y to 0\n"
   ]
  },
  {
   "cell_type": "markdown",
   "metadata": {},
   "source": [
    "### Operators\n",
    "The common mathematical operators work in Python, and there a few others\n",
    "\n",
    "   * x + y -> add\n",
    "   * x - y -> subtract\n",
    "   * x * y -> multiply\n",
    "   * x / y -> quotient (divide)\n",
    "   * x // y -> integer quotient (divide)\n",
    "   * -x -> negate x (unary minus)\n",
    "   * x**y -> raise x to the power of y\n",
    "   * x % y -> remainder of x / y\n",
    "   \n",
    "When using the above operators and storing the result into the same variable (e.q. ```x=x+1```) you can combine them with the equals sign, for example. ```x += y``` is the same as ```x = x + y```. The two symbols *must not* have spaces between them. A common use for ```+=``` is to increment numbers (e.g. ```x += 1```)."
   ]
  },
  {
   "cell_type": "markdown",
   "metadata": {},
   "source": [
    "### Loading modules, libraries, or packages\n",
    "\n",
    "Python provides many standard modules (also called libraries, or packages) for you to use, and many others are available for free from package *repositories* like **pypi.python.org**\n",
    "\n",
    "Loading a module is called *import*ing. You can import an entire module using\n",
    "\n",
    "    from math import *\n",
    "    \n",
    "or just part of the package\n",
    "\n",
    "    from math import sin, cos\n",
    "    \n",
    "You can import a module and keep it as a separate *namespace* to protect your functions from being overwritten,\n",
    "\n",
    "    import math #use math.sin instead of just sin\n",
    "\n"
   ]
  },
  {
   "cell_type": "code",
   "execution_count": null,
   "metadata": {
    "collapsed": false
   },
   "outputs": [],
   "source": [
    "import math #import the library\n",
    "math.sin(0.5) #Calculate the sin of 0.5"
   ]
  },
  {
   "cell_type": "code",
   "execution_count": null,
   "metadata": {
    "collapsed": false
   },
   "outputs": [],
   "source": [
    "import math as mylib #import and 'rename' the library inside your code.\n",
    "mylib.sin(0.5)"
   ]
  },
  {
   "cell_type": "code",
   "execution_count": null,
   "metadata": {
    "collapsed": false
   },
   "outputs": [],
   "source": [
    "from math import sin,cos #just import sin and cos\n",
    "sin(0.5)"
   ]
  },
  {
   "cell_type": "code",
   "execution_count": null,
   "metadata": {
    "collapsed": false
   },
   "outputs": [],
   "source": [
    "from math import * #import all functions from the library into your 'namespace'\n",
    "sin(0.5)"
   ]
  },
  {
   "cell_type": "markdown",
   "metadata": {},
   "source": [
    "Importing entire modules using ```import *``` can be covenient, but can also be dangerous. If two packages define \n",
    "the same function or variable the last package to be imported overwrites any earlier imports."
   ]
  },
  {
   "cell_type": "markdown",
   "metadata": {},
   "source": [
    "## Exercise 1\n",
    "What are the results of the following expressions? You should use the Python shell to get your answer.\n",
    "\n",
    "1. True and False and True\n",
    "2. True and False or True\n",
    "3. True and (False or True)\n",
    "4. (1>2) or (3>2)\n",
    "5. not (not 1 or not 0)\n",
    "6. What is $43+21$? \n",
    "7. What is $sin(9.52)$? and $sin(0.1)$? (using the sine function from the math package)\n",
    "8. What is $(15-11)^3$?\n",
    "9. What is 32/6?\n",
    "10. What is the remainder of 32/6?\n",
    "11. what is $x^x$ for $x=3$ ?\n",
    "12. What is $x+x^x$ for $x=3$? What is $x^{x+x}$?\n",
    "13. Calculate $e^{i\\pi}$, where $i$ is the complex number equal to $\\sqrt{-1}$. The *math* package provides the function *exp* and the constant *pi* but doesn't support this operation with complex numbers. Try the *cmath* package instead.\n",
    "14. Calculate the base 2 logarithm of the number 8. The math package provides the natural log function *log* and the base 10 function *log10*.\n",
    "15. $sin^2(2.5) + cos^2(2.5)$"
   ]
  },
  {
   "cell_type": "markdown",
   "metadata": {},
   "source": [
    "## Functions and Objects\n",
    "\n",
    "### Defining functions\n",
    "\n",
    "Functions in Python can be created using the following syntax\n",
    " \n",
    "    def function_empty():\n",
    "        pass #literally do nothing\n",
    "        \n",
    "    def function_taking_parameters(parameter, keyword=default_value):\n",
    "        some code\n",
    "       \n",
    "    def function_returning_a_value(parameter, keyword=default_value):\n",
    "        some code\n",
    "        return value\n",
    "        \n",
    "The function name can be (almost) any string. There can be zero or more *parameters*, whose position is important, and zero or more *keywords*, whose position is not important. Keywords always have a default value associated with them. If you call the function without a keyword, it will be available inside the function with the default value.\n",
    "\n",
    "    def func(a,b,c,d=1,e=2,f=3):\n",
    "        print a,b,c,d,e,f\n",
    "       \n",
    "    func(1,2,3) # prints 1,2,3,1,2,3\n",
    "    func(1,2,3,d=4,e=5,f=6) # prints 1,2,3,4,5,6\n",
    "    func(1,2,3,e=5) #prints 1,2,3,1,5,3\n",
    "    func(1,2,3,e=5,d=4) # prints 1,2,3,4,5,3\n",
    "    func(1,2) # error, not enough positional parameters\n",
    "    \n",
    "What happens if you run these lines of code?\n",
    "    \n",
    "    #Putting a value in the position of a keyword \n",
    "    #still assigns the value to the keyword (here d=6, etc.)\n",
    "    func(1,2,3,6,5,4)\n",
    "    #Trying to define a keyword value after using it's position is a problem\n",
    "    func(1,2,3,6,5,d=4)\n",
    "    #Using only some keywords is fine\n",
    "    func(1,2,3,6,5,f=4)\n",
    "   \n",
    "Functions can return no value, a single value, or a group of values\n",
    "\n",
    "    def func1():\n",
    "        return\n",
    "    def func2():\n",
    "        return 1\n",
    "    def func3():\n",
    "        return 1,2\n",
    "    "
   ]
  },
  {
   "cell_type": "markdown",
   "metadata": {},
   "source": [
    "\n",
    "### Containers\n",
    "Python provides a number of containers - objects designed to hold other variables. \n",
    "\n",
    "### Lists\n",
    "The *list* container stores an *ordered* group of variables whose ordering is determined by their position in the list.\n",
    "\n",
    "    list1 = [0,1,2,3,4,5] # a list of integers\n",
    "    list2 = ['a','b','c','d','e'] # a list of strings\n",
    "    list3 = [0,'b','c',3,4,'f'] # a list of strings and integers.\n",
    "    \n",
    "Each element, or entry, in the list can be accessed using square brackets, starting from element 0\n",
    "\n",
    "    list1[0] # 0\n",
    "    list2[0] # 'a'\n",
    "    list3[5] # 'f'\n",
    "    \n",
    "Accessing negative elements is the same as counting from the end of the list, the last element in the list being ```-1``` (**not** ```-0```).\n",
    "\n",
    "    list1[-2] # 4\n",
    "    list1[-5] # 1\n",
    "   \n",
    "You can create a list using square brackets ```[]``` or the ```list``` function.\n",
    "\n",
    "    a=list() # an empty list, this calls the 'list' function\n",
    "    b=[] # a second empty list\n",
    "    \n",
    "### Dictionaries\n",
    "A dictionary stores a group of ```keys``` and ```values``` in a way that lets you look up the ```key``` quickly and get the ```value``` from the dictionary.\n",
    "\n",
    "    dict1={'a':1,'b':2,'c':3}\n",
    "    dict2=dict(a=1,b=2,c=3)\n",
    "\n",
    "The values stored in the dictionary are accessed using the square brackets\n",
    "\n",
    "    dict1['a'] # 1\n",
    "    dict2['b'] # 2\n",
    "    \n",
    "and values can be updated (or new key,value pairs created) by assigning with the ```=``` sign\n",
    "\n",
    "    dict1['d'] = 4 # a new key 'd' with value 4\n",
    "    dict1['a'] = 3 # changes the value of the 'a' key to 3\n",
    "    \n",
    "Python allows many strings and data types to be used as the key, and anything for value.\n",
    "    \n",
    "### Tuples\n",
    "\n",
    "Tuples are like lists, storing a group of values, but once created cannot be changed. They are said to be ***immutable***. Changing the value in a tuple is the same as making a new tuple.\n",
    "\n",
    "    tuple1 = ('a','b',3)\n",
    "    tuple1[0] = 1 # an Error\n",
    "    \n",
    "Tuples can be \"unpacked\" into separate variables by assigning it to a comma separated list of variables\n",
    "  \n",
    "    a,b,c = tuple1 #the values are a='a', b='b', c=3\n",
    "    \n",
    "When 'unpacking' the tuple in this way, the number of elements on the left side of the equality must be the same number as the length of the tuple.\n",
    "\n",
    "### Sets \n",
    "\n",
    "Sets are like lists, but only store a value once, and support 'Set logic' operations like *intersections* and *unions*. You can define a set using\n",
    "\n",
    "    set1 = set([0,1,2,3,4])\n",
    "    set2 = {0,1,2,3,4}\n",
    "    \n",
    "The *union* of two sets is the set that contains **all elements that exist in both sets**. The *intersection* includes **only elements that exist in both sets**. The *difference* includes **elements that exist in one set but not the other**."
   ]
  },
  {
   "cell_type": "markdown",
   "metadata": {},
   "source": [
    "### Objects\n",
    "Many variables in Python are treated as an ```object```, with one or more *values* and *methods*. Values are like variables that are stored inside the object, `number` or `string`. Methods are functions that are allowed to access the values inside an object.\n",
    "\n",
    "For example, if you had an object that calculated the area of a rectangle, it might have two values *length* and *width*, and a method called *area* that calculates the area using ```length*width```.\n",
    "\n",
    "Numbers and strings are also objects in Python, although most of the mechanics are hidden from the user. \n",
    "\n",
    "The container type listed above are all examples objects. The *values* they hold are the items in the container. The *methods* are functions that can perform operations on the data inside the container.\n",
    "\n",
    "In general, to call a *method* you use the syntax\n",
    "\n",
    "    object.method(parameters) # if the method needs data\n",
    "    object.method() # if no data is required.\n",
    "    \n",
    "For the containers above, the following *methods* are commonly used\n",
    "\n",
    "    #l is a list object\n",
    "    l=list([0,1,2,3,4])\n",
    "    l.append(5) #add the value 5 to the end of the list\n",
    "    l.insert(3,5) #insert the value 5 into the list at position 3\n",
    "    len(l) # return the number of elements in the list\n",
    "    l.remove(5) #remove the value 5 from the list, but only once\n",
    "    l.pop(4) #remove the fourth element from the list.\n",
    "    l.extend([3,4]) # extend the list l with the list [3,4]\n",
    "    \n",
    "    #d and d2 are dictionaries\n",
    "    d=dict(a=1,b=2)\n",
    "    d2=dict(c=3)\n",
    "    d.keys() #return a list of all keys in the dictionary\n",
    "    d.values() #return a list of all values in the dictionary\n",
    "    len(d) # return the number of keys (or values) in the dictionary\n",
    "    d.update(d2) #update the dictionary d with the dictionary d2\n",
    "    \n",
    "    #sa and sb are sets\n",
    "    sa=set([0,1,2,3])\n",
    "    sb=set([2,3,4,5,2])\n",
    "    \n",
    "    sa.union(sb)\n",
    "    sa.difference(sb)\n",
    "    sa.intersection(sb)\n",
    "    \n",
    "## Exercise 2\n",
    "Define the following containers\n",
    "\n",
    "    la = [0,1,2,3,4,5]\n",
    "    lb = [3,4,5,6]\n",
    "    dc = dict(x=1,y=2,z=3)\n",
    "    dd = dict(u=1,v=2,w=3,x=4)\n",
    "    sa = set([0,1,2,3]) \n",
    "    sb = set([2,3,4,5,2])\n",
    "    va = 1\n",
    "    vb = 2\n",
    "\n",
    "1. What does the *la* list look like after the following operations (reset the variables after each stage)? a) extend *la* with *lb* , b) append *la* with *lb* c) extend *la* with *va*, d) append *la* with *va*?\n",
    "    \n",
    "2. What keys and values are in the dictionary *dc* after you update it with dictionary *dd*?\n",
    "\n",
    "3. What is the *difference* between set *sa* and *sb*? What about between *sb* and *sa*? Describe what the *difference* method is actually returning?\n",
    "\n",
    "4. What happens if you *extend* list *lb* with dictionary *dd*?\n",
    "\n",
    "5. What happens if you type sa|sb (the vertical bar symbol)? what about sa&sb? These are shorthand versions of union and intersection. Which is which?\n",
    "\n",
    "You might find the order of keys in your dictionaries are not how you entered them. Python does not keep the order as you might expect because it is sometimes more efficient to store them in a different order. You shouldn't be *sorting* things with dictionaries, but there is an *ordered dictionary* container called *OrderedDict* in the *collections* module.\n",
    "\n",
    "    from collections import OrderedDict\n",
    "    "
   ]
  },
  {
   "cell_type": "markdown",
   "metadata": {},
   "source": [
    "# Tutorial 2\n",
    "\n",
    "## Control Structures\n",
    "\n",
    "### Loops: for and while\n",
    "\n",
    "Looping in Python happens using a *for* loop, or sometimes a *while* loop. *For* loops run the block of code for each element in a sequence (e.g. a list of numbers). A *while* loop runs the block of code for as long as a *condition* is True.\n",
    "\n",
    "    for element in sequence:\n",
    "        body_of_code\n",
    "        \n",
    "    while condition:\n",
    "        body_of_code\n",
    "        \n",
    "The simplest *for* loop is to run the code N times. You can use the ```range(N)``` function to generate a list of integers from zero to N:\n",
    "\n",
    "    for counter in range(N):\n",
    "        body_of_code\n",
    "        \n",
    "    #equivalently\n",
    "    counter=0\n",
    "    while counter < N:\n",
    "        body_of_code\n",
    "        counter+=1\n",
    "        \n",
    "\n",
    "*For* loops should be used when you have a list of items to iterate through (even if they are a list of numbers constructed just for the loop). *While* loops should be used when you don't know how many times the code will run\n",
    "\n",
    "    #a better use for the while loop\n",
    "    from numpy.random import rand #uniform random numbers from 0-1\n",
    "    total=0.\n",
    "    threshold=50.\n",
    "    counter=0\n",
    "    while total<threshold:\n",
    "        total += rand(1)[0]\n",
    "        counter+=1\n",
    "    print counter, total\n",
    "    #counter should be ~100\n",
    "   \n",
    "### Conditional code: if, elif and else.\n",
    "Blocks of code can be made optional using the *if* statement. The code is executed **only if** the logical expression after the *if* statement evaluates to True.\n",
    "\n",
    "    #single block of code\n",
    "    if test1:\n",
    "        block_of_code\n",
    "    \n",
    "    #code with an alternate block\n",
    "    if test1:\n",
    "        block_of_code\n",
    "    else:\n",
    "        alternate_block_of_code\n",
    "\n",
    "    #many alternate blocks. only 1 will run\n",
    "    if test1:\n",
    "        block_of_code\n",
    "    elif test2:\n",
    "        alternate_block_of_code\n",
    "    elif test3:\n",
    "        second_alternate\n",
    "    else: \n",
    "        final_alternate_block_of_code\n",
    "                "
   ]
  },
  {
   "cell_type": "markdown",
   "metadata": {},
   "source": [
    "The logical expressions can be composed of any logical expression, combined with *or* and *and*, negated with *not*, may include function calls, or simply be equal to *False* (then the code will never run, of course). \n",
    "\n",
    "For loops and if statements can be nested. However, if the nesting becomes too deep, consider the readability of the code, and perhaps move the inner code to a new function. \n",
    "\n",
    "    #version 1\n",
    "    for loop1 in list1:\n",
    "        for loop2 in list 2:\n",
    "            if test1:\n",
    "                result = code1\n",
    "            elif test2:\n",
    "                for loop3 in list3:\n",
    "                    result = code2\n",
    "            else:\n",
    "                for loop3 in list4:\n",
    "                    result = code3\n",
    "\n",
    "    #version 2\n",
    "    for loop1 in list1:\n",
    "       for loop2 in list2:\n",
    "            result = function_call(loop1, loop2)\n",
    "\n",
    "For loops can be used on a sequence of elements that aren't numbers, either by counting the number of elements and generating a list of numbers with *range*, or by using the list of elements directly. For example\n",
    "\n",
    "    fruit_list = ['apple','banana','carrot','durian','eggplant','fig']\n",
    "    \n",
    "    for fruit in fruit_list:\n",
    "        print fruit\n",
    "        \n",
    "    #or\n",
    "    \n",
    "    for fruit_counter in range(len(fruit_list)):\n",
    "        print fruit_ist[fruit_counter]\n",
    "      \n",
    "You can combine the two loops with the *enumerate* that provides the index and value inside the loop\n",
    "\n",
    "    for index,value in enumerate(fruit_list):\n",
    "        print value, fruit_list[index] #the same string is printed.\n",
    "        \n",
    "## Exercise 3\n",
    "The python function ```range(N)``` will generate and return a list of numbers from 0 to N (** not including N **)\n",
    "1. Write a for loop that loops from 0 to 9 and prints each number.\n",
    "2. Write a for loop that loops from 0 to 9, print each number > 5\n",
    "3. Write a for loop that loops from 0 to 9, print each even number > 5.\n",
    "4. Write a while loop that counts from 10 down to 1, printing each number.\n",
    "5. Write a for loop that loops from 6 to 100 and prints the number *only* if it doesn't divide by 2, 3, and 5  exactly. (that is, with no remainder after division). Your output should start with 7,11,13 and end with 91,97."
   ]
  },
  {
   "cell_type": "markdown",
   "metadata": {},
   "source": [
    "## Numpy and Scipy\n",
    "\n",
    "Python lists are inefficient for mathematical operations, both in writing code and running the code. For efficient calculations you should you a numerical Python library like ```numpy```. ```numpy``` provides a special type of array that can be treated just like a number in calculations (something you can't do with ```list```) and provides a large number of specialized functions for working with these arrays.\n",
    "\n",
    "A related library called *scipy* (an abbreviation of  Scientific Python) contains a large number of functions for common and not-so-common scientific equations and algorithms. For example, Fourier transforms (*scipy.fftpack*), numerical integration (*scipy.integrate*), Bessel and Legendre functions (*scipy.special*), and random number generators (*scipy.random*).\n",
    "\n",
    "One caveat with *numpy* is that it contains functions that are also available in the *math* module **with the same name**. The *numpy* functions usually accept normal numbers and return the right answer. The *math* library functions will not take the special *numpy* arrays.\n",
    "\n",
    "    from numpy import sin\n",
    "    from math import sin\n",
    "    sin(0.5) #This calls the math version, \n",
    "             #which does not take arrays or\n",
    "             #lists as a parameter/argument."
   ]
  },
  {
   "cell_type": "markdown",
   "metadata": {},
   "source": [
    "### Arrays\n",
    "\n",
    "Numpy provides the *array* object, and many functions that work on the array as a whole (e.g. *sum, product, length, max, min*) or each element of the array in isolation (e.g. *sin,cos,power,exp*).\n",
    "\n",
    "    from numpy import *\n",
    "    a = zeros(5) #make an array of five zeros.\n",
    "    b = arange(5) # make an array of five numbers from 0 to 4\n",
    "    c = ones(5) #make an array of five ones, of integer type\n",
    "    d = zeros(5,int) # An array fives zeros with integer type\n",
    "    e = zeros(5,float) # A floating point array\n",
    "    f = zeros((2,2)) # make an array of 4 zeros, in two dimensions\n",
    "    \n",
    "The *arange* function, and it's alternatives *linspace*, and *logspace* generate a series of numbers when given the correct arguments. *arange*  takes the arguments for the start of the array, end of the array, and step size of the array. *linspace* takes the start of the array, end of the array, and *number of elements* in the array. *logspace* does the same in logarithmic space.\n",
    "\n",
    "    arange(5) # 0,1,2,3,4\n",
    "    arange(0,5) # 0,1,2,3,4\n",
    "    arange(3,5) # 3,4\n",
    "    arange(0,5,2) # 0,2,4\n",
    "    linspace(0,5,6) # 0,1,2,3,4,5\n",
    "    linspace(0,5,5) # 0,1.25,2.5,3.75,5.\n",
    "    linspace(0,5,1) # 0\n",
    "    linspace(0,5,2) # 0,5\n",
    "    logspace(-2,2,5) # 0.01,0.1,1,10,100\n",
    "    \n",
    "Notice that the last value returned from *arange* is not the argument used in the function call. It's usually 1 less. On the other hand, *linspace* does include the upper value.\n",
    "\n",
    "The *range* function built into Python provides a similar function for lists to the ```arange``` function in ```numpy```.\n",
    "\n",
    "Accessing the array elements is similar to accessing a list element\n",
    "\n",
    "    b[4] # element 4 of array b\n",
    "    f[0,1] # element in row 0, column 1\n",
    "    \n",
    "You can also access sections of the array using *slicing* notation. In this notation you can specify the *start* element, the *stop* element, and the *stepping*. **Remember that the *stop* element is not included in the slice**.\n",
    "\n",
    "    b[1:5:1] # element 1,2,3,4 from array b\n",
    "    b[1:5:2] # 1,3\n",
    "    b[1:5]   # 1,2,3,4\n",
    "    b[:5]    # 0,1,2,3,4\n",
    "    b[1:]    # 1,2,3,4\n",
    "    b[:5:2]  # 0,2,4\n",
    "    b[1::2]  # 1,3\n",
    "    b[::2]   # 0,2,4\n",
    "    \n",
    "The double colon (::) notation is shorthand for the ```slice``` function, which takes the argument ```slice(start,stop,step)```, and works the same way as the ```arange``` function.\n",
    "\n",
    "    b[slice(1,5,2)] # 1,3\n",
    "    \n",
    "Arrays can be used as arguments to functions, like *sin*, and treated as variables in equations\n",
    "\n",
    "    sin(b)\n",
    "    b*2\n",
    "    b**3 + 2\n",
    "    \n",
    "### Modules and Libraries\n",
    "In addition to using libraries written by others you can reuse your own code as a module/library by saving the code in a file and *import*ing that file. For example, if you wrote a function to calculate the first N Fibonacci numbers (the list of numbers defined as $F_n = F_{n-1} +F_{n-2}$ ,starting with the numbers $F_0=1$ and $F_1=1$).\n",
    "\n",
    "    def fibN(N):\n",
    "        if N==0:\n",
    "            s=[]\n",
    "        elif N==1:\n",
    "            s=[1]\n",
    "        elif N>=2:\n",
    "            s=[1,1]\n",
    "            for i in range(2,N):\n",
    "                s.append(s[-1]+s[-2])\n",
    "        return s\n",
    "\n",
    "you could save this function in a file called 'fib.py'. Then in a new program you can simply write\n",
    "\n",
    "    import fib\n",
    "    print(fib.fibN(8))\n",
    "    \n",
    "    >[1, 1, 2, 3, 5, 8, 13, 21]\n",
    "\n",
    "This only works if Python knows where to find your code. By default Python will search its library, and the current directory. You can add a directory to the path stored in *sys.path*. You should change the path before you try to import the new package\n",
    "\n",
    "    import sys\n",
    "    sys.path.append('the_full_path_to_my_directory')\n",
    "    import fib\n",
    "\n",
    "\n",
    "# Tutorial 3\n",
    "## Exercise 4\n",
    "Use the Numpy package where you can. Save all the code you generate to a text file.\n",
    "\n",
    "1. Generate an array of 10 floating point values from 0 to 9 inclusive. Calculate the mean value.  (There may be a function to calculate the ```mean``` of the array, if not there is a function to calculate the ```sum```  and ```len``` or ```size``` of the array).\n",
    "\n",
    "2. Take the array generated in question 1, subtract the mean value and square the result. Calculate the mean value of this new array.\n",
    "\n",
    "3. Using functions from the *numpy* package, calculate the ```mean```,```min```,```max```,```std``` (standard deviation), and ```var``` (variance) of the array in question 1. Which one corresponds to the your answer to question 2.\n",
    "\n",
    "4. Generate 12 values from 0 to 360 degrees using the ```arange``` function. Calculate the ```sin``` of each value and print the results. What angle units was the sine function expecting?\n",
    "\n",
    "5. The ```arccos``` function from numpy calculate the \"inverse cosine\" of a value between -1 and +1. It always returns angles in radians. Write a new function called ```arccosD``` that takes the same input as arccos but returns values in degrees. You should call the ```arccos``` function inside your function, and convert to degrees either by multiplying by $\\frac{180}{\\pi}$ or calling the ```rad2deg``` function.\n",
    "\n",
    "6. Calculate the sum of the values generated in question 4. The sum of these values is the same as integrating $sin(x)$ for 0 to 360 degrees. What should the answer be?\n",
    "\n",
    "7. Write a function that takes a single number and calculates its factorial. The factorial is sometimes written as '!' and N! is the product of integers from 1 to N inclusive, so 3! is 1*2*3. Make sure that the code produces the correct answer for N=0 (```0!=1```). Calculate the value of 9!\n",
    "     \n",
    "8. Define a function that takes an argument M and saves all of the Fibonacci numbers **below the value of M** in a list. Fibonacci numbers are the set of the numbers found by adding the last two numbers in the list that starts with 1,1 .  The Fibonacci terms below 30 are 1,1,2,3,5,8,13,21. Print the Fibonacci terms for M=1000.\n",
    "\n",
    "9. Using the function that calculates factorials calculate the sum of the first 3 terms in integer N of (1/N!) starting from N=0. That is, 1/0! + 1/1! + 1/2!. Use a for loop that takes the value of N and accumulates the answer in a variable, **don't** simply write the 3 terms. This is the approximate value of the mathematical constant *e* that serves as the base of natural logarithms. How big does N need to before the result stops changing at the eigth decimal point. Compare your value with the value ```exp(1.0)``` using either the *numpy* or *math* packages."
   ]
  },
  {
   "cell_type": "markdown",
   "metadata": {},
   "source": [
    "## Plotting with Pylab\n",
    "\n",
    "The most common way of generating line plots,maps, or contour plots from data is using a package called *matplotlib*. This package exposes a lot of control over the style and structure of the plots you can generate. Much of the control can be hidden using a simpler interface called *pylab* . \n",
    "\n",
    "*pylab* includes packages from *matplotlib*, *numpy*, and *scipy* to provide a basic scientific toolkit. You can import pylab like any other library:\n",
    "\n",
    "    import pylab\n",
    "    \n",
    "Then you can access the plotting functions it provides"
   ]
  },
  {
   "cell_type": "code",
   "execution_count": null,
   "metadata": {
    "collapsed": false
   },
   "outputs": [],
   "source": [
    "import pylab\n",
    "#If don't specify the figure size,\n",
    "#Python will use its default values.\n",
    "x=pylab.arange(0,8*pylab.pi,0.05*pylab.pi)\n",
    "y=pylab.sin(x)\n",
    "pylab.plot(x,y); # A Sine wave"
   ]
  },
  {
   "cell_type": "code",
   "execution_count": null,
   "metadata": {
    "collapsed": false
   },
   "outputs": [],
   "source": [
    "pylab.figure(figsize=(8,2)) #different figsize\n",
    "pylab.plot(x,y,color='green'); #A green sine wave"
   ]
  },
  {
   "cell_type": "code",
   "execution_count": null,
   "metadata": {
    "collapsed": false
   },
   "outputs": [],
   "source": [
    "pylab.figure(figsize=(8,4))\n",
    "# a thick line\n",
    "pylab.plot(x,pylab.sin(x),color='red',label='sine', linewidth=5) \n",
    "# a dashed line\n",
    "pylab.plot(x,pylab.cos(x),color='green',label='cosine',linestyle='--')\n",
    "#print a figure legend using the line labels\n",
    "pylab.legend(loc='lower right') \n",
    "# add a label to the x axis\n",
    "pylab.xlabel(\"x axis label\") \n",
    "pylab.ylabel('y axis label')\n",
    "#extend the y axis limits to +- 3.14159\n",
    "pylab.ylim(-pylab.pi,pylab.pi) \n",
    "pylab.title(\"Plot title\");"
   ]
  },
  {
   "cell_type": "markdown",
   "metadata": {},
   "source": [
    "### Reading data with Pylab\n",
    "Pylab provides the function *loadtxt* to read data from a text file. and *savetxt* to save data to a text file. You can optionally specify a delimiter used to separate the data (e.g. commas, tabs, spaces, semi-colons) instead of the default method which considers any whitespace:\n",
    "\n",
    "    loadtxt(\"data.txt\", delimiter=',') #look for commas to separate fields.\n",
    "\n",
    "tell pylab to skip the file header with the *skiprows* keyword\n",
    "\n",
    "    loadtxt(\"data.txt\", skiprows=5) #ignore the first five rows\n",
    "    \n",
    "use only certain columns with *usecols*\n",
    "\n",
    "    loadtxt(\"data.txt\", usecols=(0,3)) #use only columns 0 and 3 \n",
    "\n",
    "split a file with many columns into individual variables\n",
    "\n",
    "    loadtxt(\"data.txt\", unpack=True)\n",
    "\n",
    "*loadtxt* does not provide a way of ignoring the **last** lines of a file."
   ]
  },
  {
   "cell_type": "code",
   "execution_count": null,
   "metadata": {
    "collapsed": false
   },
   "outputs": [],
   "source": [
    "from numpy import arange,savetxt,loadtxt\n",
    "#Generate a single column of data\n",
    "data = arange(10.)\n",
    "print (\"data={0}\".format(data))\n",
    "savetxt(\"output_files/mydata.txt\",data,delimiter=',') #save the data\n",
    "data_loaded = loadtxt(\"output_files/mydata.txt\",delimiter=',') #load the data\n",
    "print (\"data_loaded={0}\".format(data_loaded))\n",
    "\n",
    "#generate 30 complex numbers and arrange in 3 columns of 10 rows each\n",
    "data2 = arange(30,dtype=complex).reshape(10,3)\n",
    "print (\"data2={0}\".format(data2[3,:])) #only print the row at index 3 (the 4th row!)\n",
    "savetxt(\"output_files/mydata2.txt\",data2,delimiter=',') #save the data\n",
    "#load the data, you need to tell loadtxt that the data is complex.\n",
    "data_loaded2 = loadtxt(\"output_files/mydata2.txt\",delimiter=',',dtype=complex) \n",
    "print (\"data_loaded2={0}\".format(data_loaded2[3,:]))\n"
   ]
  },
  {
   "cell_type": "markdown",
   "metadata": {},
   "source": [
    "### Saving figures with Pylab\n",
    "Figures can saved from pylab with the *savefig* command. Figures can be saved different formats such as 'pdf' (vector) files and 'png' (image) files. Some pylab packages support other formats (like postscript 'eps' for journal publication and 'svg' for web-browser use). The first argument to savefig should be the file name, including the format\n",
    "\n",
    "    savefig(\"plot.pdf\") #save a pdf image in plot.pdf\n",
    "\n",
    "Some formats support extra options, such as resolution ('dpi') for images, bounding boxes for postscript formats, and transparency to make using the figure on a different background color (or overlayed on another image) possible.\n",
    "\n",
    "    from pylab import arange, plot, savefig\n",
    "    plot(arange(10))\n",
    "    savefig(\"plot.pdf\") #save a pdf\n",
    "    savefig(\"plot.png\") #save a png \n",
    "    savefig(\"plot300.png\",dpi=300,transparent=True) # high resolution \n",
    "                                                    # transparent background"
   ]
  },
  {
   "cell_type": "markdown",
   "metadata": {},
   "source": [
    "## Exercise 5\n",
    "Save each figure in a different file.\n",
    "\n",
    "1. Plot the $tan^{-1}(x)$ function for $x$ values from -5 to +5.\n",
    "2. Plot the functions $e^x$ and $e^{-x}$ from -5 to 5. Make sure the lines can be identified and are labelled.\n",
    "3. Plot the functions $\\frac{e^x-e^{-x}}{2}$ and the \"hyperbolic sine functions\" from -5 to 5. Make sure both lines are visible.\n",
    "4. Write a function to calculate the sinc function (i.e. $\\left(\\frac{sin(x)}{x}\\right)^2$ ) . Make sure you calculate the correct answer for x=0. Plot the sinc function from -5 to 5.\n",
    "5. Plot the cumulative sum (use ```cumsum```) of the sinc function from -50 to 50. What is the sum?  How many points did you plot? The integral of the sinc function over this range is about 3.12169. Why is your sum different to the integral?\n",
    "6. Plot a circle with radius 5 centered at x=4,y=7. Make sure it looks like a circle and not an ellipse. You may need to control the size of the figure and the limits on the axis."
   ]
  },
  {
   "cell_type": "markdown",
   "metadata": {},
   "source": [
    "## Data Analysis with Python\n",
    "The goal of many lab experiments is to determine the relationship between two quantities. One quantity $x$ can be controlled and is called the **independent variable**, the second quantity $y$ is measured and is called the **dependent variable** ($y$ depends on $x$).\n",
    "\n",
    "The relationship between $x$ and $y$ can often be found by fitting a function $f$ that takes the independent variable as an argument $f=f(x)$. Then the value of $x$ can be changed throughout an experiment to provide *N* different values, and the result of calling the function $f(x)$ for each value of $x$ can be compared against the measured value $y$. If the function $f$ is a good model of the real experiment, the comparison will be good enough (we'll define \"good\" later).\n",
    "\n",
    "The procedure for fitting data in this way is common enough that Python provides the function *curve_fit* that takes the data collected and the function being tested and returns quantitative results about the goodness of the fit function. *curve_fit* is used in its simplest form as \n",
    "\n",
    "    from scipy.optimize import curve_fit\n",
    "    popt, pcov = curve_fit(func, xdata, ydata)\n",
    "    \n",
    "where the input arguments are\n",
    "\n",
    "  * func = the function being tested as a fit function. The format is special and discussed next\n",
    "  * xdata = the independent variables in a list or numpy array\n",
    "  * ydata = the dependent variables in a list or numpy array\n",
    "\n",
    "and the output is \n",
    "\n",
    "  * popt = a list of parameters that, when given to func, produce the fit with smallest (square) errors\n",
    "  * pcov = the variance of each parameter and the co-variance between each pair of parameters\n",
    "\n",
    "The function being tested can be any function written in Python providing it is in the form\n",
    "\n",
    "    def func(xdata, p0,p1,p2):\n",
    "       code_to_model_the_experiment\n",
    "       return value\n",
    "       \n",
    "where the p0,p1,p2 are the parameters being fit. You can also define the function as \n",
    "\n",
    "    def func(xdata, *p):\n",
    "         code\n",
    "         return value\n",
    "\n",
    "where the '\\*' tells Python to accept any number of arguments and store them as a list in p, so ```p0``` becomes ```p[0]``` . This can be useful when you are testing different functions and don't want to rewrite the function call each time. If you use this method, you must tell *curve_fit* how many parameters are expected by providing an initial set of values for the parameters in the ```p0``` keyword, calling curve_fit as\n",
    "\n",
    "    popt, pcov = curve_fit(func, xdata, ydata,p0=(arg1,arg2,arg3))\n"
   ]
  },
  {
   "cell_type": "markdown",
   "metadata": {},
   "source": [
    "### The linear regression method.\n",
    "\n",
    "With data collected in for $x$ and $y$, a linear regression uses a function $f(x)$ that is linear in the unknown parameters, for example\n",
    "$$f(x) = a+bx$$\n",
    "\n",
    "is linear in $a$ and $b$ (and $x$), \n",
    "\n",
    "$$f(x) = a+bx+cx^2$$\n",
    "\n",
    "is linear in $a$,$b$, and $c$ (but not $x$)\n",
    "\n",
    "Linear regression calculates the unknown parameters that creates the function $f$ that is closest to the measured value $y$ assuming that errors in the measured values have errors from measurement that obey **Gauss' distribution**. For an observation with the true value $\\mu$, an observation $y$ has the following probability of occurring:\n",
    "\n",
    "$$P(y) = \\frac{1}{\\sqrt{2\\pi\\sigma^2}}e^{-\\frac{(y-\\mu)^2}{2\\sigma^2}}$$"
   ]
  },
  {
   "cell_type": "code",
   "execution_count": null,
   "metadata": {
    "collapsed": false
   },
   "outputs": [],
   "source": [
    "#Plotting the Gaussian function in Python\n",
    "from pylab import arange,sqrt, exp, plot, xticks, xlabel, ylabel, pi,figure\n",
    "y=arange(-4,4,0.1)\n",
    "sigma=1.0\n",
    "mu=0.0\n",
    "p=1./sqrt(2*pi*sigma**2) * exp(-(y-mu)**2/(2*sigma**2))\n",
    "figure(figsize=(8,3))\n",
    "plot(y,p)\n",
    "s=\"$\\sigma$\"\n",
    "xticks([-3,-2,-1,0,1,2,3],['-3'+s,'-2'+s,'-1'+s,'0'+s,'1'+s,'2'+s,'3'+s])\n",
    "xlabel(\"$(y-\\mu)$\")\n",
    "ylabel(\"P(y)\");"
   ]
  },
  {
   "cell_type": "markdown",
   "metadata": {},
   "source": [
    "The linear regression method starts by calculating the probability of obtaining **one** dependent value $y_i$\n",
    "$$P_{a,b}(y_i) = \\frac{1}{\\sqrt{2\\pi\\sigma_y^2}}e^{-\\frac{(y_i-f(x_i))^2}{2\\sigma_y^2}}$$\n",
    "\n",
    "The combined probability of all of the measurements occuring if the fitting function $a+bx$ is a good approximation is then the product of each single probability $P_{a,b}(y_i)$\n",
    "\n",
    "$$P_{a,b}(y_1,y_2\\ldots,y_N) = P_{a,b}(y_1)P_{a,b}(y_2)\\ldots P_{a,b}(y_N)$$\n",
    "\n",
    "This value is proportial to the product of the exponent in each Gaussian term (and a normalizing constant that doesn't depend on the measured data). The **product of the exponents** of each probability is the same as the **exponent of the sum of the exponent terms**, i.e.\n",
    "\n",
    "$$ e^{v_1}e^{v_2}e^{v_3} = e^{v_1+v_2+v_3}$$\n",
    "\n",
    "For the Gaussian probabilities, the sum of the exponents is called $\\chi^2$.\n",
    "\n",
    "$$\\chi^2 = \\sum\\frac{(y_i - f(x_i))^2}{\\sigma_y^2}$$\n",
    "\n",
    "This is the only part of the problem that depends on the data, and the highest value of Probability (i.e. the best function $f(x)$) is found by *minimizing* the value of $\\chi^2$ (minimizing because of the minus sign).\n",
    "\n",
    "The function $f(x)$ that minimizes the value of $\\chi^2$ is called the *least-squares fit* to the data, or *least-squared-error fit*, because the expression being minimized is $(y-f(x))^2$ is the square of the error between the measured value $y$ and the predicted value $f(x)$.\n",
    "\n",
    "The value of $\\chi^2$ depends on the number of points N in the dataset. To make interpretation easier we can define a reduced $\\chi_r^2$ as\n",
    "\n",
    "$$\\chi_r^2 = \\frac{\\chi^2}{\\mathrm{dof}}$$\n",
    "\n",
    "where $\\mathrm{dof}$ is the number of degrees of freedom, calculated as the difference between the number of data points N and the number of parameters being fit $m$ ($f(x)=a+bx$ has two parameters, $m=2$).\n",
    "\n",
    "$$\\mathrm{dof} = N - m$$\n",
    "\n",
    "A fitting function that is a good approximation of the data has a $\\chi_r^2 \\approx 1$. Much higher and the data is 'underfit' (large errors still exist), much lower and the data is 'overfit' (small residuals suggest that the noise is being fit).\n"
   ]
  },
  {
   "cell_type": "markdown",
   "metadata": {},
   "source": [
    "### Non-linear Regression\n",
    "\n",
    "If our fitting function is non-linear, the derivation above starts becomes harder. However, if the non-linear function can be converted to a linear function (and our assumptions about Gaussian errors are valid for the linearly transform function) the linear regression method can still be used.\n",
    "\n",
    "For example, the function $y=ae^{bx}$ is non-linear in the parameters, but taking the logarithm creates $\\ln y = \\ln a + bx$. The linear regression method can be used to find the parameters $\\ln a$ and $b$, using $x$ as the independent data **but** $\\ln y$ as the dependent data.\n",
    "\n",
    "Using *curve_fit*, it's possible to fit a non-linear fit function using the same Python function. That means your function can be defined as $y=ae^{bx}$ and the data can be given to *curve_fit* unchanged.\n",
    "\n",
    "### Variance, Covariance, and Correlations\n",
    "Variance measures the dispersion of values in one variable $x$, written as $\\sigma_x^2$ and defined as\n",
    "\n",
    "$$ \\sigma_{x}^2 = \\frac{1}{N}\\sum_{i=1}^N(x_i-\\bar{x})^2$$\n",
    "\n",
    "Covariance describes the variance of two variables, written as $\\sigma_{xy}^2$ \n",
    "\n",
    "$$ \\sigma_{xy}^2 = \\frac{1}{N}\\sum_{i=1}^N(x_i-\\bar{x})(y_i-\\bar{y})$$\n",
    "\n",
    "The sample coefficient for linear correlation (usually labelled $r$) measures the extent to which the dataset $x,y$ have a linear relationaship. Defined as\n",
    "\n",
    "$$ r = \\frac{\\sigma_{xy}}{\\sigma_x\\sigma_y}$$\n",
    "\n",
    "A covariance matrix contains the covariance of each pair of variables. For two variables \n",
    "\n",
    "$$\\left(\\begin{matrix} \\sigma^2_{xx} & \\sigma^2_{xy} \\\\ \\sigma^2_{yx} & \\sigma^2_{yy} \\end{matrix}\\right)$$\n",
    "\n",
    "where $\\sigma^2_{xx}$ is the variance of $x$.\n",
    "\n",
    "Using *curve_fit*, the covariance matrix is returned as the second variable *pcov*, it is a 2D variable defined following the equation above. Variances are provided in the diagonal elements, covariances in the off-diagonal elements. The square-root of the diagonal elements are the standard deviations of the parameters. These numbers are usually used as the 'error' in the parameter fit to show the possible range of values for the parameter. For example a parameter with mean 4 and variance 9 can be written as $4\\pm3$, suggesting a large range of likely values. The same parameter with variance 1 would be written as $4\\pm1$, suggesting a much smaller range of likely values.\n",
    "\n",
    "The off-diagonal elements describe how one variable changes as the other changes (accounting for different magnitudes if any), so a covariance of 0 means the two variables *change* independently, a positive indicates that a positive change in one variable coincides (or *correlates*) with a positive change in the other.\n",
    "\n",
    "We can generate examples of this covariance matrix using *numpy*. In the following example, the variance of $x$ and $y$ are kept constant (near 1.0) while the covariances are changed from -1 to +1."
   ]
  },
  {
   "cell_type": "code",
   "execution_count": null,
   "metadata": {
    "collapsed": false
   },
   "outputs": [],
   "source": [
    "from numpy.random import multivariate_normal, normal\n",
    "import pylab\n",
    "num_samples = 400\n",
    "cov = [-1.0,-0.5,0.0,0.5,1.0]\n",
    "#setup the figure\n",
    "pylab.figure(figsize=(15,10))\n",
    "mean=pylab.array([0.0,0.0])\n",
    "for i,covariance in enumerate(cov):\n",
    "    #make a subplot in the figure for each covariance value\n",
    "    #force the aspect ratio to 1 so that \n",
    "    #circles look like circles and 1:1 gradients are at 45 degrees\n",
    "    pylab.subplot(1,5,i+1,aspect=1)\n",
    "    covmatrix = pylab.array([\n",
    "            [  1.1, covariance,],\n",
    "            [ covariance,  1.1,],\n",
    "        ])\n",
    "    #generate random data with a known mean and covariance matrix.\n",
    "    y = multivariate_normal(mean,covmatrix, size=num_samples)\n",
    "    #plot each distribution, fix the x and y axis to the same size\n",
    "    pylab.plot(y[:,0],y[:,1],'.',color=pylab.cm.viridis(i/5.))\n",
    "    pylab.ylim(-5,5)\n",
    "    pylab.xlim(-5,5)\n",
    "    pylab.title(\"covariance={0}\".format(covariance))"
   ]
  },
  {
   "cell_type": "markdown",
   "metadata": {},
   "source": [
    "### Worked example 1 - Mauna Loa CO2\n",
    "\n",
    "Scientists have been measuring the amount of carbon dioxide in the atmosphere from a station on top of the Hawai'ian mountain Mauna Loa since the 1950's. Using a dataset that includes the annual mean value of co2 fit a line to this data and calculate the growth rate in the amount atmospheric of carbon dioxide in the atmosphere.\n"
   ]
  },
  {
   "cell_type": "code",
   "execution_count": null,
   "metadata": {
    "collapsed": false
   },
   "outputs": [],
   "source": [
    "### Worked example 1 - Mauna Loa data\n",
    "import pylab # import pylab\n",
    "source_file = \"input_data/co2_annmean_mlo.txt\" #the source file.\n",
    "comment_char=\"#\" #The file includes a description of \n",
    "                 #the dataset at the top the file. \n",
    "                 #Each line is commented with a #\n",
    "\n",
    "#The data file has labels for each column, \n",
    "# Only \n",
    "# to be more useful.\n",
    "year,co2 = pylab.loadtxt(source_file, \n",
    "                        usecols=(0,1),\n",
    "                        unpack=True,\n",
    "                        comments=comment_char) \n",
    "\n",
    "#data is now a numpy array that looks a lot \n",
    "# like a dictionary. data[\"year\"] is the\n",
    "# column of year data.\n",
    "\n",
    "#fit a straight line\n",
    "def fitfunc(x,*p):\n",
    "    #print(\"a={0:9.3e}\".format(p[0]))\n",
    "    #print(\"b={0:9.3e}\".format(p[1]))\n",
    "    #print(pylab.array(p))\n",
    "    #print(\"--\")\n",
    "    return p[0]+p[1]*x+p[2]*x**2\n",
    "\n",
    "#import the fitting routine\n",
    "from scipy.optimize import curve_fit\n",
    "\n",
    "#call the fitting routine, remember to give initial values for the parameters\n",
    "popt, pcov = curve_fit(fitfunc,year,co2,p0=[1,1,0],epsfcn=1.0,maxfev=200)\n",
    "\n",
    "#setup the figure\n",
    "pylab.figure(figsize=(8,4))\n",
    "\n",
    "#plot the data\n",
    "pylab.plot(year,co2,'.',label=\"CO2 data\")\n",
    "\n",
    "#calculate the line fit by calling the fit function directly\n",
    "fitted_data = fitfunc(year,*popt)\n",
    "\n",
    "#plot the fitting line\n",
    "pylab.plot(year,fitted_data,\n",
    "            linewidth=2,\n",
    "            label=\"linear\".format(*popt))\n",
    "\n",
    "#decorate the plot\n",
    "pylab.xlabel(\"year\")\n",
    "pylab.ylabel(\"CO2 (ppm)\")\n",
    "pylab.title(\"Mauna Loa fit\")\n",
    "pylab.legend(loc='lower right');\n",
    "\n",
    "pylab.savefig(\"output_files/co2fit.pdf\")\n",
    "print(\"f(year) = a + b*year\".format(*popt))\n",
    "print(\"a = {0:9.3f} +- {1:6.3f} ppm\".format(popt[0],sqrt(pcov[0,0])))\n",
    "print(\"b = {0:9.3f} +- {1:6.3f} ppm/year\".format(popt[1],sqrt(pcov[1,1])))\n",
    "\n",
    "#import scipy\n",
    "#help(scipy.optimize.leastsq)"
   ]
  },
  {
   "cell_type": "markdown",
   "metadata": {},
   "source": [
    "### Worked Example 2 - Generating data and fitting a straight line\n",
    "\n",
    "In this example, we'll test the fitting algorithm by generating our own random data using scipy, then trying to fit this data with ```curve_fit```. The data will be generated using *scipy* to make random numbers about 0 and adding this to a perfect straight line. In the next exercise you will get to modify the size of the noise and slope of the line to see how it affects the accuracy of the fitted line."
   ]
  },
  {
   "cell_type": "code",
   "execution_count": null,
   "metadata": {
    "collapsed": false
   },
   "outputs": [],
   "source": [
    "import pylab\n",
    "#Gaussian noise comes scipy.random.randn\n",
    "from scipy import random\n",
    "#import the fitting routine\n",
    "from scipy.optimize import curve_fit\n",
    "\n",
    "\n",
    "def straight_line_with_noise(x, a,b,err): #y=a+bx+e*randn()\n",
    "    return a+b*x + err*random.randn(len(x))\n",
    "\n",
    "#1000 points\n",
    "x=pylab.arange(1000) \n",
    "\n",
    "def fit_func(x,a,b):\n",
    "    return a+b*x\n",
    "\n",
    "#end of the setup code\n",
    "\n",
    "#generate the data values\n",
    "a,b,err = 10., 2.5, 100.\n",
    "y=straight_line_with_noise(x,a,b,err)\n",
    "#fit the data\n",
    "popt,pcov = curve_fit(fit_func,x,y)\n",
    "\n",
    "#should we make a plot?\n",
    "make_plot=True\n",
    "if make_plot:\n",
    "    #plot the data\n",
    "    #setup the figure\n",
    "    pylab.figure(figsize=(8,4))\n",
    "    #subplot allows us to put multiple plots on one figure\n",
    "    #the arguments are number_of_rows, number_of_columns, index_of_the_plot\n",
    "    pylab.subplot(2,1,1) #first plot in a group of 3 rows, 1 column \n",
    "    # histogram plotting the errors on each data point\n",
    "    pylab.hist((y-(a+b*x)),bins=100,normed=True) \n",
    "    pylab.xlabel(\"Deviation of line from a+bx\")\n",
    "    pylab.ylabel(\"Frequency\")\n",
    "    #second plot in a group of 3 rows, 1 column\n",
    "    pylab.subplot(2,1,2) \n",
    "    pylab.xlabel(\"x\")\n",
    "    pylab.ylabel(\"y\")\n",
    "    #There are a lot of data points here\n",
    "    #so we make the marker translucent with alpha=0.5\n",
    "    pylab.plot(x,y,label='data',linestyle='none',marker='+',alpha=0.5)\n",
    "    pylab.plot(x,fit_func(x,*popt),label='fit',linewidth=2)\n",
    "    pylab.legend(fontsize=6)\n",
    "    pylab.savefig(\"output_files/fitting_line.png\")\n",
    "print(\"requested function y={0}+{1}*x with standard deviation {2}\".format(a,b,err))\n",
    "print(\"actual standard deviation={0}\".format(pylab.std(y-(a+b*x))))\n",
    "print(\"fit function y=a+bx\")\n",
    "print(\"a = {0:9.3f} +- {1:6.3f}\".format(popt[0],pylab.sqrt(pcov[0,0])))\n",
    "print(\"b = {0:9.3f} +- {1:6.3f}\".format(popt[1],pylab.sqrt(pcov[1,1])))\n",
    "\n"
   ]
  },
  {
   "cell_type": "markdown",
   "metadata": {},
   "source": [
    "## Exercise 6\n",
    "\n",
    "1. Mauna Loa data\n",
    "    a. The value of *a* is known as the intercept because it's the value of f(x) when x=0 (i.e. f(0)). It does not make sense for this value to be referenced to year 0 because negative CO2 concentration is impossible and the record starts in 1958. Change the independent variable or the fitting function so that the year 1960 is removed from the value of *year* before it's used in the fitting routine. This will change the meaning of *a* to be the value at f(1960) instead of f(0). What is the new values for the fitting parameters ```a``` and ```b```? One way of doing this is to subtract 1960 from the data as soon as it's read into the program, but there may be a better way.\n",
    "  \n",
    "    b. The straight line fit is not very good. Calculate the reduced $\\chi^2$ value for this data (the variance of the data is $0.12^2$). Add a quadratic ($x^2$) term to the fit function and recalculate the fit. What is the new reduced $\\chi^2$? Is the quadratic fit better than the straight line fit?  \n",
    "    \n",
    "    c. The slope of the line in this example is the rate of change (or 'growth rate') of carbon dioxide in the atmosphere. What is the growth rate in 2015 using the straight line fit? and the quadrative fit from question b?\n",
    "   \n",
    "2. Fitting Noisy Data\n",
    "\n",
    "    a. Save the code to a file. Run the code with the following settings a=0,b=1,e=30. Keep the figure it generates.\n",
    "    \n",
    "    b. Increase the standard deviation ```err``` to 10,000 and make a new plot. Does the fitted line look unique this time?\n",
    "    \n",
    "    c. set ```make_plot=False``` to stop the code making a plot and run the code 100 times. Save the output of the code in a text file. How many times was the value of ```b``` different at the 1 standard-deviation level compared to the values you asked for in part 'a'? To answer this question, calculate the difference between the value you used to generate the data (b=1) and the value the fitting code returned (e.g. b=0.988), then compare this to the estimated standard deviation in pcov (e.q. sqrt(pcov[1,1])=0.015). You might want to make a new function (e.g. called ```genfit```) that generates the and calculates the least-square fit, then returns the fitting parameters. Then you can easily call this function 100 times with a for loop.\n",
    "    \n",
    "    d. Change the value of ```err``` to 10000 and repeat question 'c' above. How many times was the value of ```b``` different from the true values this time? What does this tell you about the effect errors have on your experiment?\n",
    "    "
   ]
  },
  {
   "cell_type": "code",
   "execution_count": null,
   "metadata": {
    "collapsed": false
   },
   "outputs": [],
   "source": [
    "#An example genfit routine for Exercise 7.2.d\n",
    "\n",
    "def genfit(x,a,b,e):\n",
    "    #generate the data values\n",
    "    y=straight_line_with_noise(x,a,b,e)\n",
    "    #fit the data\n",
    "    popt,pcov = curve_fit(fit_func,x,y)\n",
    "    #return the values a,b,variance(a),variance(b)\n",
    "    return popt[0],popt[1], pcov[0,0],pcov[1,1]\n"
   ]
  }
 ],
 "metadata": {
  "celltoolbar": "Edit Metadata",
  "kernelspec": {
   "display_name": "Python 3",
   "language": "python",
   "name": "python3"
  },
  "language_info": {
   "codemirror_mode": {
    "name": "ipython",
    "version": 3
   },
   "file_extension": ".py",
   "mimetype": "text/x-python",
   "name": "python",
   "nbconvert_exporter": "python",
   "pygments_lexer": "ipython3",
   "version": "3.6.0"
  }
 },
 "nbformat": 4,
 "nbformat_minor": 0
}
